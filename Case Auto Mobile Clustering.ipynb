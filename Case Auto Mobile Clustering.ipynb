{
 "cells": [
  {
   "cell_type": "code",
   "execution_count": 38,
   "metadata": {},
   "outputs": [],
   "source": [
    "import pandas as pd\n",
    "import numpy as np\n",
    "import matplotlib.pyplot as plt\n",
    "import seaborn as sns\n",
    "from sklearn import preprocessing\n",
    "from sklearn.cluster import DBSCAN\n",
    "from sklearn.cluster import AgglomerativeClustering\n",
    "from sklearn.cluster import KMeans\n",
    "from sklearn.metrics import silhouette_score\n",
    "import scipy.cluster.hierarchy as sch\n",
    "import warnings\n",
    "warnings.filterwarnings('ignore')"
   ]
  },
  {
   "cell_type": "code",
   "execution_count": 2,
   "metadata": {},
   "outputs": [],
   "source": [
    "data_losses = pd.read_csv('D:\\\\Bootcamp\\\\9. Data Wrangling\\\\Automobile\\\\automobile-losses.csv')"
   ]
  },
  {
   "cell_type": "code",
   "execution_count": 3,
   "metadata": {},
   "outputs": [],
   "source": [
    "data_risk = pd.read_csv('D:\\\\Bootcamp\\\\9. Data Wrangling\\\\Automobile\\\\automobile-risk.csv')"
   ]
  },
  {
   "cell_type": "code",
   "execution_count": 4,
   "metadata": {},
   "outputs": [],
   "source": [
    "data_spec = pd.read_csv('D:\\\\Bootcamp\\\\9. Data Wrangling\\\\Automobile\\\\automobile-spec.csv')"
   ]
  },
  {
   "cell_type": "code",
   "execution_count": 5,
   "metadata": {},
   "outputs": [
    {
     "data": {
      "text/html": [
       "<div>\n",
       "<style scoped>\n",
       "    .dataframe tbody tr th:only-of-type {\n",
       "        vertical-align: middle;\n",
       "    }\n",
       "\n",
       "    .dataframe tbody tr th {\n",
       "        vertical-align: top;\n",
       "    }\n",
       "\n",
       "    .dataframe thead th {\n",
       "        text-align: right;\n",
       "    }\n",
       "</style>\n",
       "<table border=\"1\" class=\"dataframe\">\n",
       "  <thead>\n",
       "    <tr style=\"text-align: right;\">\n",
       "      <th></th>\n",
       "      <th>ID</th>\n",
       "      <th>normalized-losses</th>\n",
       "    </tr>\n",
       "  </thead>\n",
       "  <tbody>\n",
       "    <tr>\n",
       "      <th>0</th>\n",
       "      <td>1</td>\n",
       "      <td>NaN</td>\n",
       "    </tr>\n",
       "    <tr>\n",
       "      <th>1</th>\n",
       "      <td>2</td>\n",
       "      <td>NaN</td>\n",
       "    </tr>\n",
       "    <tr>\n",
       "      <th>2</th>\n",
       "      <td>3</td>\n",
       "      <td>NaN</td>\n",
       "    </tr>\n",
       "    <tr>\n",
       "      <th>3</th>\n",
       "      <td>4</td>\n",
       "      <td>164.0</td>\n",
       "    </tr>\n",
       "    <tr>\n",
       "      <th>4</th>\n",
       "      <td>5</td>\n",
       "      <td>164.0</td>\n",
       "    </tr>\n",
       "    <tr>\n",
       "      <th>5</th>\n",
       "      <td>6</td>\n",
       "      <td>NaN</td>\n",
       "    </tr>\n",
       "    <tr>\n",
       "      <th>6</th>\n",
       "      <td>7</td>\n",
       "      <td>158.0</td>\n",
       "    </tr>\n",
       "    <tr>\n",
       "      <th>7</th>\n",
       "      <td>8</td>\n",
       "      <td>NaN</td>\n",
       "    </tr>\n",
       "    <tr>\n",
       "      <th>8</th>\n",
       "      <td>9</td>\n",
       "      <td>158.0</td>\n",
       "    </tr>\n",
       "    <tr>\n",
       "      <th>9</th>\n",
       "      <td>10</td>\n",
       "      <td>NaN</td>\n",
       "    </tr>\n",
       "  </tbody>\n",
       "</table>\n",
       "</div>"
      ],
      "text/plain": [
       "   ID  normalized-losses\n",
       "0   1                NaN\n",
       "1   2                NaN\n",
       "2   3                NaN\n",
       "3   4              164.0\n",
       "4   5              164.0\n",
       "5   6                NaN\n",
       "6   7              158.0\n",
       "7   8                NaN\n",
       "8   9              158.0\n",
       "9  10                NaN"
      ]
     },
     "execution_count": 5,
     "metadata": {},
     "output_type": "execute_result"
    }
   ],
   "source": [
    "data_losses.head(10)"
   ]
  },
  {
   "cell_type": "code",
   "execution_count": 6,
   "metadata": {},
   "outputs": [
    {
     "data": {
      "text/html": [
       "<div>\n",
       "<style scoped>\n",
       "    .dataframe tbody tr th:only-of-type {\n",
       "        vertical-align: middle;\n",
       "    }\n",
       "\n",
       "    .dataframe tbody tr th {\n",
       "        vertical-align: top;\n",
       "    }\n",
       "\n",
       "    .dataframe thead th {\n",
       "        text-align: right;\n",
       "    }\n",
       "</style>\n",
       "<table border=\"1\" class=\"dataframe\">\n",
       "  <thead>\n",
       "    <tr style=\"text-align: right;\">\n",
       "      <th></th>\n",
       "      <th>ID</th>\n",
       "      <th>symboling</th>\n",
       "    </tr>\n",
       "  </thead>\n",
       "  <tbody>\n",
       "    <tr>\n",
       "      <th>0</th>\n",
       "      <td>1</td>\n",
       "      <td>3</td>\n",
       "    </tr>\n",
       "    <tr>\n",
       "      <th>1</th>\n",
       "      <td>2</td>\n",
       "      <td>3</td>\n",
       "    </tr>\n",
       "    <tr>\n",
       "      <th>2</th>\n",
       "      <td>3</td>\n",
       "      <td>1</td>\n",
       "    </tr>\n",
       "    <tr>\n",
       "      <th>3</th>\n",
       "      <td>4</td>\n",
       "      <td>2</td>\n",
       "    </tr>\n",
       "    <tr>\n",
       "      <th>4</th>\n",
       "      <td>5</td>\n",
       "      <td>2</td>\n",
       "    </tr>\n",
       "    <tr>\n",
       "      <th>5</th>\n",
       "      <td>6</td>\n",
       "      <td>2</td>\n",
       "    </tr>\n",
       "    <tr>\n",
       "      <th>6</th>\n",
       "      <td>7</td>\n",
       "      <td>1</td>\n",
       "    </tr>\n",
       "    <tr>\n",
       "      <th>7</th>\n",
       "      <td>8</td>\n",
       "      <td>1</td>\n",
       "    </tr>\n",
       "    <tr>\n",
       "      <th>8</th>\n",
       "      <td>9</td>\n",
       "      <td>1</td>\n",
       "    </tr>\n",
       "    <tr>\n",
       "      <th>9</th>\n",
       "      <td>10</td>\n",
       "      <td>0</td>\n",
       "    </tr>\n",
       "  </tbody>\n",
       "</table>\n",
       "</div>"
      ],
      "text/plain": [
       "   ID  symboling\n",
       "0   1          3\n",
       "1   2          3\n",
       "2   3          1\n",
       "3   4          2\n",
       "4   5          2\n",
       "5   6          2\n",
       "6   7          1\n",
       "7   8          1\n",
       "8   9          1\n",
       "9  10          0"
      ]
     },
     "execution_count": 6,
     "metadata": {},
     "output_type": "execute_result"
    }
   ],
   "source": [
    "data_risk.head(10)"
   ]
  },
  {
   "cell_type": "code",
   "execution_count": 7,
   "metadata": {},
   "outputs": [
    {
     "data": {
      "text/plain": [
       "(205, 25)"
      ]
     },
     "execution_count": 7,
     "metadata": {},
     "output_type": "execute_result"
    }
   ],
   "source": [
    "data_spec.shape"
   ]
  },
  {
   "cell_type": "code",
   "execution_count": 8,
   "metadata": {},
   "outputs": [
    {
     "data": {
      "text/html": [
       "<div>\n",
       "<style scoped>\n",
       "    .dataframe tbody tr th:only-of-type {\n",
       "        vertical-align: middle;\n",
       "    }\n",
       "\n",
       "    .dataframe tbody tr th {\n",
       "        vertical-align: top;\n",
       "    }\n",
       "\n",
       "    .dataframe thead th {\n",
       "        text-align: right;\n",
       "    }\n",
       "</style>\n",
       "<table border=\"1\" class=\"dataframe\">\n",
       "  <thead>\n",
       "    <tr style=\"text-align: right;\">\n",
       "      <th></th>\n",
       "      <th>ID</th>\n",
       "      <th>make</th>\n",
       "      <th>fuel-type</th>\n",
       "      <th>aspiration</th>\n",
       "      <th>num-of-doors</th>\n",
       "      <th>body-style</th>\n",
       "      <th>drive-wheel</th>\n",
       "      <th>engine-loc</th>\n",
       "      <th>wheel-base</th>\n",
       "      <th>length</th>\n",
       "      <th>...</th>\n",
       "      <th>engine-size</th>\n",
       "      <th>fuel-system</th>\n",
       "      <th>bore</th>\n",
       "      <th>stroke</th>\n",
       "      <th>compression-ratio</th>\n",
       "      <th>horsepower</th>\n",
       "      <th>peak-rpm</th>\n",
       "      <th>city-mpg</th>\n",
       "      <th>highway-mpg</th>\n",
       "      <th>price</th>\n",
       "    </tr>\n",
       "  </thead>\n",
       "  <tbody>\n",
       "    <tr>\n",
       "      <th>0</th>\n",
       "      <td>1</td>\n",
       "      <td>alfa-romero</td>\n",
       "      <td>gas</td>\n",
       "      <td>std</td>\n",
       "      <td>two</td>\n",
       "      <td>convertible</td>\n",
       "      <td>rwd</td>\n",
       "      <td>front</td>\n",
       "      <td>88.6</td>\n",
       "      <td>168.8</td>\n",
       "      <td>...</td>\n",
       "      <td>130</td>\n",
       "      <td>mpfi</td>\n",
       "      <td>3.47</td>\n",
       "      <td>2.68</td>\n",
       "      <td>9.0</td>\n",
       "      <td>111.0</td>\n",
       "      <td>5000.0</td>\n",
       "      <td>21</td>\n",
       "      <td>27</td>\n",
       "      <td>13495.0</td>\n",
       "    </tr>\n",
       "    <tr>\n",
       "      <th>1</th>\n",
       "      <td>2</td>\n",
       "      <td>alfa-romero</td>\n",
       "      <td>gas</td>\n",
       "      <td>std</td>\n",
       "      <td>two</td>\n",
       "      <td>convertible</td>\n",
       "      <td>rwd</td>\n",
       "      <td>front</td>\n",
       "      <td>88.6</td>\n",
       "      <td>168.8</td>\n",
       "      <td>...</td>\n",
       "      <td>130</td>\n",
       "      <td>mpfi</td>\n",
       "      <td>3.47</td>\n",
       "      <td>2.68</td>\n",
       "      <td>9.0</td>\n",
       "      <td>111.0</td>\n",
       "      <td>5000.0</td>\n",
       "      <td>21</td>\n",
       "      <td>27</td>\n",
       "      <td>16500.0</td>\n",
       "    </tr>\n",
       "    <tr>\n",
       "      <th>2</th>\n",
       "      <td>3</td>\n",
       "      <td>alfa-romero</td>\n",
       "      <td>gas</td>\n",
       "      <td>std</td>\n",
       "      <td>two</td>\n",
       "      <td>hatchback</td>\n",
       "      <td>rwd</td>\n",
       "      <td>front</td>\n",
       "      <td>94.5</td>\n",
       "      <td>171.2</td>\n",
       "      <td>...</td>\n",
       "      <td>152</td>\n",
       "      <td>mpfi</td>\n",
       "      <td>2.68</td>\n",
       "      <td>3.47</td>\n",
       "      <td>9.0</td>\n",
       "      <td>154.0</td>\n",
       "      <td>5000.0</td>\n",
       "      <td>19</td>\n",
       "      <td>26</td>\n",
       "      <td>16500.0</td>\n",
       "    </tr>\n",
       "    <tr>\n",
       "      <th>3</th>\n",
       "      <td>4</td>\n",
       "      <td>audi</td>\n",
       "      <td>gas</td>\n",
       "      <td>std</td>\n",
       "      <td>four</td>\n",
       "      <td>sedan</td>\n",
       "      <td>fwd</td>\n",
       "      <td>front</td>\n",
       "      <td>99.8</td>\n",
       "      <td>176.6</td>\n",
       "      <td>...</td>\n",
       "      <td>109</td>\n",
       "      <td>mpfi</td>\n",
       "      <td>3.19</td>\n",
       "      <td>3.40</td>\n",
       "      <td>10.0</td>\n",
       "      <td>102.0</td>\n",
       "      <td>5500.0</td>\n",
       "      <td>24</td>\n",
       "      <td>30</td>\n",
       "      <td>13950.0</td>\n",
       "    </tr>\n",
       "    <tr>\n",
       "      <th>4</th>\n",
       "      <td>5</td>\n",
       "      <td>audi</td>\n",
       "      <td>gas</td>\n",
       "      <td>std</td>\n",
       "      <td>four</td>\n",
       "      <td>sedan</td>\n",
       "      <td>4wd</td>\n",
       "      <td>front</td>\n",
       "      <td>99.4</td>\n",
       "      <td>176.6</td>\n",
       "      <td>...</td>\n",
       "      <td>136</td>\n",
       "      <td>mpfi</td>\n",
       "      <td>3.19</td>\n",
       "      <td>3.40</td>\n",
       "      <td>8.0</td>\n",
       "      <td>115.0</td>\n",
       "      <td>5500.0</td>\n",
       "      <td>18</td>\n",
       "      <td>22</td>\n",
       "      <td>17450.0</td>\n",
       "    </tr>\n",
       "    <tr>\n",
       "      <th>5</th>\n",
       "      <td>6</td>\n",
       "      <td>audi</td>\n",
       "      <td>gas</td>\n",
       "      <td>std</td>\n",
       "      <td>two</td>\n",
       "      <td>sedan</td>\n",
       "      <td>fwd</td>\n",
       "      <td>front</td>\n",
       "      <td>99.8</td>\n",
       "      <td>177.3</td>\n",
       "      <td>...</td>\n",
       "      <td>136</td>\n",
       "      <td>mpfi</td>\n",
       "      <td>3.19</td>\n",
       "      <td>3.40</td>\n",
       "      <td>8.5</td>\n",
       "      <td>110.0</td>\n",
       "      <td>5500.0</td>\n",
       "      <td>19</td>\n",
       "      <td>25</td>\n",
       "      <td>15250.0</td>\n",
       "    </tr>\n",
       "    <tr>\n",
       "      <th>6</th>\n",
       "      <td>7</td>\n",
       "      <td>audi</td>\n",
       "      <td>gas</td>\n",
       "      <td>std</td>\n",
       "      <td>four</td>\n",
       "      <td>sedan</td>\n",
       "      <td>fwd</td>\n",
       "      <td>front</td>\n",
       "      <td>105.8</td>\n",
       "      <td>192.7</td>\n",
       "      <td>...</td>\n",
       "      <td>136</td>\n",
       "      <td>mpfi</td>\n",
       "      <td>3.19</td>\n",
       "      <td>3.40</td>\n",
       "      <td>8.5</td>\n",
       "      <td>110.0</td>\n",
       "      <td>5500.0</td>\n",
       "      <td>19</td>\n",
       "      <td>25</td>\n",
       "      <td>17710.0</td>\n",
       "    </tr>\n",
       "    <tr>\n",
       "      <th>7</th>\n",
       "      <td>8</td>\n",
       "      <td>audi</td>\n",
       "      <td>gas</td>\n",
       "      <td>std</td>\n",
       "      <td>four</td>\n",
       "      <td>wagon</td>\n",
       "      <td>fwd</td>\n",
       "      <td>front</td>\n",
       "      <td>105.8</td>\n",
       "      <td>192.7</td>\n",
       "      <td>...</td>\n",
       "      <td>136</td>\n",
       "      <td>mpfi</td>\n",
       "      <td>3.19</td>\n",
       "      <td>3.40</td>\n",
       "      <td>8.5</td>\n",
       "      <td>110.0</td>\n",
       "      <td>5500.0</td>\n",
       "      <td>19</td>\n",
       "      <td>25</td>\n",
       "      <td>18920.0</td>\n",
       "    </tr>\n",
       "    <tr>\n",
       "      <th>8</th>\n",
       "      <td>9</td>\n",
       "      <td>audi</td>\n",
       "      <td>gas</td>\n",
       "      <td>turbo</td>\n",
       "      <td>four</td>\n",
       "      <td>sedan</td>\n",
       "      <td>fwd</td>\n",
       "      <td>front</td>\n",
       "      <td>105.8</td>\n",
       "      <td>192.7</td>\n",
       "      <td>...</td>\n",
       "      <td>131</td>\n",
       "      <td>mpfi</td>\n",
       "      <td>3.13</td>\n",
       "      <td>3.40</td>\n",
       "      <td>8.3</td>\n",
       "      <td>140.0</td>\n",
       "      <td>5500.0</td>\n",
       "      <td>17</td>\n",
       "      <td>20</td>\n",
       "      <td>23875.0</td>\n",
       "    </tr>\n",
       "    <tr>\n",
       "      <th>9</th>\n",
       "      <td>10</td>\n",
       "      <td>audi</td>\n",
       "      <td>gas</td>\n",
       "      <td>turbo</td>\n",
       "      <td>two</td>\n",
       "      <td>hatchback</td>\n",
       "      <td>4wd</td>\n",
       "      <td>front</td>\n",
       "      <td>99.5</td>\n",
       "      <td>178.2</td>\n",
       "      <td>...</td>\n",
       "      <td>131</td>\n",
       "      <td>mpfi</td>\n",
       "      <td>3.13</td>\n",
       "      <td>3.40</td>\n",
       "      <td>7.0</td>\n",
       "      <td>160.0</td>\n",
       "      <td>5500.0</td>\n",
       "      <td>16</td>\n",
       "      <td>22</td>\n",
       "      <td>NaN</td>\n",
       "    </tr>\n",
       "  </tbody>\n",
       "</table>\n",
       "<p>10 rows × 25 columns</p>\n",
       "</div>"
      ],
      "text/plain": [
       "   ID         make fuel-type aspiration num-of-doors   body-style drive-wheel  \\\n",
       "0   1  alfa-romero       gas        std          two  convertible         rwd   \n",
       "1   2  alfa-romero       gas        std          two  convertible         rwd   \n",
       "2   3  alfa-romero       gas        std          two    hatchback         rwd   \n",
       "3   4         audi       gas        std         four        sedan         fwd   \n",
       "4   5         audi       gas        std         four        sedan         4wd   \n",
       "5   6         audi       gas        std          two        sedan         fwd   \n",
       "6   7         audi       gas        std         four        sedan         fwd   \n",
       "7   8         audi       gas        std         four        wagon         fwd   \n",
       "8   9         audi       gas      turbo         four        sedan         fwd   \n",
       "9  10         audi       gas      turbo          two    hatchback         4wd   \n",
       "\n",
       "  engine-loc  wheel-base  length   ...     engine-size  fuel-system  bore  \\\n",
       "0      front        88.6   168.8   ...             130         mpfi  3.47   \n",
       "1      front        88.6   168.8   ...             130         mpfi  3.47   \n",
       "2      front        94.5   171.2   ...             152         mpfi  2.68   \n",
       "3      front        99.8   176.6   ...             109         mpfi  3.19   \n",
       "4      front        99.4   176.6   ...             136         mpfi  3.19   \n",
       "5      front        99.8   177.3   ...             136         mpfi  3.19   \n",
       "6      front       105.8   192.7   ...             136         mpfi  3.19   \n",
       "7      front       105.8   192.7   ...             136         mpfi  3.19   \n",
       "8      front       105.8   192.7   ...             131         mpfi  3.13   \n",
       "9      front        99.5   178.2   ...             131         mpfi  3.13   \n",
       "\n",
       "  stroke compression-ratio  horsepower peak-rpm  city-mpg  highway-mpg  \\\n",
       "0   2.68               9.0       111.0   5000.0        21           27   \n",
       "1   2.68               9.0       111.0   5000.0        21           27   \n",
       "2   3.47               9.0       154.0   5000.0        19           26   \n",
       "3   3.40              10.0       102.0   5500.0        24           30   \n",
       "4   3.40               8.0       115.0   5500.0        18           22   \n",
       "5   3.40               8.5       110.0   5500.0        19           25   \n",
       "6   3.40               8.5       110.0   5500.0        19           25   \n",
       "7   3.40               8.5       110.0   5500.0        19           25   \n",
       "8   3.40               8.3       140.0   5500.0        17           20   \n",
       "9   3.40               7.0       160.0   5500.0        16           22   \n",
       "\n",
       "     price  \n",
       "0  13495.0  \n",
       "1  16500.0  \n",
       "2  16500.0  \n",
       "3  13950.0  \n",
       "4  17450.0  \n",
       "5  15250.0  \n",
       "6  17710.0  \n",
       "7  18920.0  \n",
       "8  23875.0  \n",
       "9      NaN  \n",
       "\n",
       "[10 rows x 25 columns]"
      ]
     },
     "execution_count": 8,
     "metadata": {},
     "output_type": "execute_result"
    }
   ],
   "source": [
    "data_spec.head(10)"
   ]
  },
  {
   "cell_type": "code",
   "execution_count": 9,
   "metadata": {},
   "outputs": [
    {
     "data": {
      "text/plain": [
       "Index(['ID', 'make', 'fuel-type', 'aspiration', 'num-of-doors', 'body-style',\n",
       "       'drive-wheel', 'engine-loc', 'wheel-base', 'length', 'width', 'height',\n",
       "       'curb-weight', 'engine-type', 'cylinder', 'engine-size', 'fuel-system',\n",
       "       'bore', 'stroke', 'compression-ratio', 'horsepower', 'peak-rpm',\n",
       "       'city-mpg', 'highway-mpg', 'price'],\n",
       "      dtype='object')"
      ]
     },
     "execution_count": 9,
     "metadata": {},
     "output_type": "execute_result"
    }
   ],
   "source": [
    "data_spec.columns"
   ]
  },
  {
   "cell_type": "code",
   "execution_count": 10,
   "metadata": {},
   "outputs": [
    {
     "name": "stdout",
     "output_type": "stream",
     "text": [
      "<class 'pandas.core.frame.DataFrame'>\n",
      "RangeIndex: 205 entries, 0 to 204\n",
      "Data columns (total 25 columns):\n",
      "ID                   205 non-null int64\n",
      "make                 205 non-null object\n",
      "fuel-type            205 non-null object\n",
      "aspiration           205 non-null object\n",
      "num-of-doors         204 non-null object\n",
      "body-style           205 non-null object\n",
      "drive-wheel          205 non-null object\n",
      "engine-loc           205 non-null object\n",
      "wheel-base           205 non-null float64\n",
      "length               205 non-null float64\n",
      "width                205 non-null float64\n",
      "height               205 non-null float64\n",
      "curb-weight          205 non-null int64\n",
      "engine-type          205 non-null object\n",
      "cylinder             205 non-null object\n",
      "engine-size          205 non-null int64\n",
      "fuel-system          205 non-null object\n",
      "bore                 201 non-null float64\n",
      "stroke               201 non-null float64\n",
      "compression-ratio    205 non-null float64\n",
      "horsepower           203 non-null float64\n",
      "peak-rpm             203 non-null float64\n",
      "city-mpg             205 non-null int64\n",
      "highway-mpg          205 non-null int64\n",
      "price                201 non-null float64\n",
      "dtypes: float64(10), int64(5), object(10)\n",
      "memory usage: 40.1+ KB\n"
     ]
    }
   ],
   "source": [
    "data_spec.info()"
   ]
  },
  {
   "cell_type": "code",
   "execution_count": 11,
   "metadata": {
    "scrolled": true
   },
   "outputs": [
    {
     "data": {
      "text/plain": [
       "ID                   0\n",
       "make                 0\n",
       "fuel-type            0\n",
       "aspiration           0\n",
       "num-of-doors         1\n",
       "body-style           0\n",
       "drive-wheel          0\n",
       "engine-loc           0\n",
       "wheel-base           0\n",
       "length               0\n",
       "width                0\n",
       "height               0\n",
       "curb-weight          0\n",
       "engine-type          0\n",
       "cylinder             0\n",
       "engine-size          0\n",
       "fuel-system          0\n",
       "bore                 4\n",
       "stroke               4\n",
       "compression-ratio    0\n",
       "horsepower           2\n",
       "peak-rpm             2\n",
       "city-mpg             0\n",
       "highway-mpg          0\n",
       "price                4\n",
       "dtype: int64"
      ]
     },
     "execution_count": 11,
     "metadata": {},
     "output_type": "execute_result"
    }
   ],
   "source": [
    "data_spec.isnull().sum()"
   ]
  },
  {
   "cell_type": "markdown",
   "metadata": {},
   "source": [
    "## Part 1"
   ]
  },
  {
   "cell_type": "markdown",
   "metadata": {},
   "source": [
    "### 1. Join 3 tables using ID as key"
   ]
  },
  {
   "cell_type": "code",
   "execution_count": 12,
   "metadata": {},
   "outputs": [
    {
     "data": {
      "text/html": [
       "<div>\n",
       "<style scoped>\n",
       "    .dataframe tbody tr th:only-of-type {\n",
       "        vertical-align: middle;\n",
       "    }\n",
       "\n",
       "    .dataframe tbody tr th {\n",
       "        vertical-align: top;\n",
       "    }\n",
       "\n",
       "    .dataframe thead th {\n",
       "        text-align: right;\n",
       "    }\n",
       "</style>\n",
       "<table border=\"1\" class=\"dataframe\">\n",
       "  <thead>\n",
       "    <tr style=\"text-align: right;\">\n",
       "      <th></th>\n",
       "      <th>ID</th>\n",
       "      <th>make</th>\n",
       "      <th>fuel-type</th>\n",
       "      <th>aspiration</th>\n",
       "      <th>num-of-doors</th>\n",
       "      <th>body-style</th>\n",
       "      <th>drive-wheel</th>\n",
       "      <th>engine-loc</th>\n",
       "      <th>wheel-base</th>\n",
       "      <th>length</th>\n",
       "      <th>...</th>\n",
       "      <th>bore</th>\n",
       "      <th>stroke</th>\n",
       "      <th>compression-ratio</th>\n",
       "      <th>horsepower</th>\n",
       "      <th>peak-rpm</th>\n",
       "      <th>city-mpg</th>\n",
       "      <th>highway-mpg</th>\n",
       "      <th>price</th>\n",
       "      <th>normalized-losses</th>\n",
       "      <th>symboling</th>\n",
       "    </tr>\n",
       "  </thead>\n",
       "  <tbody>\n",
       "    <tr>\n",
       "      <th>0</th>\n",
       "      <td>1</td>\n",
       "      <td>alfa-romero</td>\n",
       "      <td>gas</td>\n",
       "      <td>std</td>\n",
       "      <td>two</td>\n",
       "      <td>convertible</td>\n",
       "      <td>rwd</td>\n",
       "      <td>front</td>\n",
       "      <td>88.6</td>\n",
       "      <td>168.8</td>\n",
       "      <td>...</td>\n",
       "      <td>3.47</td>\n",
       "      <td>2.68</td>\n",
       "      <td>9.0</td>\n",
       "      <td>111.0</td>\n",
       "      <td>5000.0</td>\n",
       "      <td>21</td>\n",
       "      <td>27</td>\n",
       "      <td>13495.0</td>\n",
       "      <td>NaN</td>\n",
       "      <td>3</td>\n",
       "    </tr>\n",
       "    <tr>\n",
       "      <th>1</th>\n",
       "      <td>2</td>\n",
       "      <td>alfa-romero</td>\n",
       "      <td>gas</td>\n",
       "      <td>std</td>\n",
       "      <td>two</td>\n",
       "      <td>convertible</td>\n",
       "      <td>rwd</td>\n",
       "      <td>front</td>\n",
       "      <td>88.6</td>\n",
       "      <td>168.8</td>\n",
       "      <td>...</td>\n",
       "      <td>3.47</td>\n",
       "      <td>2.68</td>\n",
       "      <td>9.0</td>\n",
       "      <td>111.0</td>\n",
       "      <td>5000.0</td>\n",
       "      <td>21</td>\n",
       "      <td>27</td>\n",
       "      <td>16500.0</td>\n",
       "      <td>NaN</td>\n",
       "      <td>3</td>\n",
       "    </tr>\n",
       "    <tr>\n",
       "      <th>2</th>\n",
       "      <td>3</td>\n",
       "      <td>alfa-romero</td>\n",
       "      <td>gas</td>\n",
       "      <td>std</td>\n",
       "      <td>two</td>\n",
       "      <td>hatchback</td>\n",
       "      <td>rwd</td>\n",
       "      <td>front</td>\n",
       "      <td>94.5</td>\n",
       "      <td>171.2</td>\n",
       "      <td>...</td>\n",
       "      <td>2.68</td>\n",
       "      <td>3.47</td>\n",
       "      <td>9.0</td>\n",
       "      <td>154.0</td>\n",
       "      <td>5000.0</td>\n",
       "      <td>19</td>\n",
       "      <td>26</td>\n",
       "      <td>16500.0</td>\n",
       "      <td>NaN</td>\n",
       "      <td>1</td>\n",
       "    </tr>\n",
       "    <tr>\n",
       "      <th>3</th>\n",
       "      <td>4</td>\n",
       "      <td>audi</td>\n",
       "      <td>gas</td>\n",
       "      <td>std</td>\n",
       "      <td>four</td>\n",
       "      <td>sedan</td>\n",
       "      <td>fwd</td>\n",
       "      <td>front</td>\n",
       "      <td>99.8</td>\n",
       "      <td>176.6</td>\n",
       "      <td>...</td>\n",
       "      <td>3.19</td>\n",
       "      <td>3.40</td>\n",
       "      <td>10.0</td>\n",
       "      <td>102.0</td>\n",
       "      <td>5500.0</td>\n",
       "      <td>24</td>\n",
       "      <td>30</td>\n",
       "      <td>13950.0</td>\n",
       "      <td>164.0</td>\n",
       "      <td>2</td>\n",
       "    </tr>\n",
       "    <tr>\n",
       "      <th>4</th>\n",
       "      <td>5</td>\n",
       "      <td>audi</td>\n",
       "      <td>gas</td>\n",
       "      <td>std</td>\n",
       "      <td>four</td>\n",
       "      <td>sedan</td>\n",
       "      <td>4wd</td>\n",
       "      <td>front</td>\n",
       "      <td>99.4</td>\n",
       "      <td>176.6</td>\n",
       "      <td>...</td>\n",
       "      <td>3.19</td>\n",
       "      <td>3.40</td>\n",
       "      <td>8.0</td>\n",
       "      <td>115.0</td>\n",
       "      <td>5500.0</td>\n",
       "      <td>18</td>\n",
       "      <td>22</td>\n",
       "      <td>17450.0</td>\n",
       "      <td>164.0</td>\n",
       "      <td>2</td>\n",
       "    </tr>\n",
       "    <tr>\n",
       "      <th>5</th>\n",
       "      <td>6</td>\n",
       "      <td>audi</td>\n",
       "      <td>gas</td>\n",
       "      <td>std</td>\n",
       "      <td>two</td>\n",
       "      <td>sedan</td>\n",
       "      <td>fwd</td>\n",
       "      <td>front</td>\n",
       "      <td>99.8</td>\n",
       "      <td>177.3</td>\n",
       "      <td>...</td>\n",
       "      <td>3.19</td>\n",
       "      <td>3.40</td>\n",
       "      <td>8.5</td>\n",
       "      <td>110.0</td>\n",
       "      <td>5500.0</td>\n",
       "      <td>19</td>\n",
       "      <td>25</td>\n",
       "      <td>15250.0</td>\n",
       "      <td>NaN</td>\n",
       "      <td>2</td>\n",
       "    </tr>\n",
       "    <tr>\n",
       "      <th>6</th>\n",
       "      <td>7</td>\n",
       "      <td>audi</td>\n",
       "      <td>gas</td>\n",
       "      <td>std</td>\n",
       "      <td>four</td>\n",
       "      <td>sedan</td>\n",
       "      <td>fwd</td>\n",
       "      <td>front</td>\n",
       "      <td>105.8</td>\n",
       "      <td>192.7</td>\n",
       "      <td>...</td>\n",
       "      <td>3.19</td>\n",
       "      <td>3.40</td>\n",
       "      <td>8.5</td>\n",
       "      <td>110.0</td>\n",
       "      <td>5500.0</td>\n",
       "      <td>19</td>\n",
       "      <td>25</td>\n",
       "      <td>17710.0</td>\n",
       "      <td>158.0</td>\n",
       "      <td>1</td>\n",
       "    </tr>\n",
       "    <tr>\n",
       "      <th>7</th>\n",
       "      <td>8</td>\n",
       "      <td>audi</td>\n",
       "      <td>gas</td>\n",
       "      <td>std</td>\n",
       "      <td>four</td>\n",
       "      <td>wagon</td>\n",
       "      <td>fwd</td>\n",
       "      <td>front</td>\n",
       "      <td>105.8</td>\n",
       "      <td>192.7</td>\n",
       "      <td>...</td>\n",
       "      <td>3.19</td>\n",
       "      <td>3.40</td>\n",
       "      <td>8.5</td>\n",
       "      <td>110.0</td>\n",
       "      <td>5500.0</td>\n",
       "      <td>19</td>\n",
       "      <td>25</td>\n",
       "      <td>18920.0</td>\n",
       "      <td>NaN</td>\n",
       "      <td>1</td>\n",
       "    </tr>\n",
       "    <tr>\n",
       "      <th>8</th>\n",
       "      <td>9</td>\n",
       "      <td>audi</td>\n",
       "      <td>gas</td>\n",
       "      <td>turbo</td>\n",
       "      <td>four</td>\n",
       "      <td>sedan</td>\n",
       "      <td>fwd</td>\n",
       "      <td>front</td>\n",
       "      <td>105.8</td>\n",
       "      <td>192.7</td>\n",
       "      <td>...</td>\n",
       "      <td>3.13</td>\n",
       "      <td>3.40</td>\n",
       "      <td>8.3</td>\n",
       "      <td>140.0</td>\n",
       "      <td>5500.0</td>\n",
       "      <td>17</td>\n",
       "      <td>20</td>\n",
       "      <td>23875.0</td>\n",
       "      <td>158.0</td>\n",
       "      <td>1</td>\n",
       "    </tr>\n",
       "    <tr>\n",
       "      <th>9</th>\n",
       "      <td>10</td>\n",
       "      <td>audi</td>\n",
       "      <td>gas</td>\n",
       "      <td>turbo</td>\n",
       "      <td>two</td>\n",
       "      <td>hatchback</td>\n",
       "      <td>4wd</td>\n",
       "      <td>front</td>\n",
       "      <td>99.5</td>\n",
       "      <td>178.2</td>\n",
       "      <td>...</td>\n",
       "      <td>3.13</td>\n",
       "      <td>3.40</td>\n",
       "      <td>7.0</td>\n",
       "      <td>160.0</td>\n",
       "      <td>5500.0</td>\n",
       "      <td>16</td>\n",
       "      <td>22</td>\n",
       "      <td>NaN</td>\n",
       "      <td>NaN</td>\n",
       "      <td>0</td>\n",
       "    </tr>\n",
       "  </tbody>\n",
       "</table>\n",
       "<p>10 rows × 27 columns</p>\n",
       "</div>"
      ],
      "text/plain": [
       "   ID         make fuel-type aspiration num-of-doors   body-style drive-wheel  \\\n",
       "0   1  alfa-romero       gas        std          two  convertible         rwd   \n",
       "1   2  alfa-romero       gas        std          two  convertible         rwd   \n",
       "2   3  alfa-romero       gas        std          two    hatchback         rwd   \n",
       "3   4         audi       gas        std         four        sedan         fwd   \n",
       "4   5         audi       gas        std         four        sedan         4wd   \n",
       "5   6         audi       gas        std          two        sedan         fwd   \n",
       "6   7         audi       gas        std         four        sedan         fwd   \n",
       "7   8         audi       gas        std         four        wagon         fwd   \n",
       "8   9         audi       gas      turbo         four        sedan         fwd   \n",
       "9  10         audi       gas      turbo          two    hatchback         4wd   \n",
       "\n",
       "  engine-loc  wheel-base  length    ...      bore  stroke  compression-ratio  \\\n",
       "0      front        88.6   168.8    ...      3.47    2.68                9.0   \n",
       "1      front        88.6   168.8    ...      3.47    2.68                9.0   \n",
       "2      front        94.5   171.2    ...      2.68    3.47                9.0   \n",
       "3      front        99.8   176.6    ...      3.19    3.40               10.0   \n",
       "4      front        99.4   176.6    ...      3.19    3.40                8.0   \n",
       "5      front        99.8   177.3    ...      3.19    3.40                8.5   \n",
       "6      front       105.8   192.7    ...      3.19    3.40                8.5   \n",
       "7      front       105.8   192.7    ...      3.19    3.40                8.5   \n",
       "8      front       105.8   192.7    ...      3.13    3.40                8.3   \n",
       "9      front        99.5   178.2    ...      3.13    3.40                7.0   \n",
       "\n",
       "  horsepower peak-rpm  city-mpg highway-mpg    price  normalized-losses  \\\n",
       "0      111.0   5000.0        21          27  13495.0                NaN   \n",
       "1      111.0   5000.0        21          27  16500.0                NaN   \n",
       "2      154.0   5000.0        19          26  16500.0                NaN   \n",
       "3      102.0   5500.0        24          30  13950.0              164.0   \n",
       "4      115.0   5500.0        18          22  17450.0              164.0   \n",
       "5      110.0   5500.0        19          25  15250.0                NaN   \n",
       "6      110.0   5500.0        19          25  17710.0              158.0   \n",
       "7      110.0   5500.0        19          25  18920.0                NaN   \n",
       "8      140.0   5500.0        17          20  23875.0              158.0   \n",
       "9      160.0   5500.0        16          22      NaN                NaN   \n",
       "\n",
       "   symboling  \n",
       "0          3  \n",
       "1          3  \n",
       "2          1  \n",
       "3          2  \n",
       "4          2  \n",
       "5          2  \n",
       "6          1  \n",
       "7          1  \n",
       "8          1  \n",
       "9          0  \n",
       "\n",
       "[10 rows x 27 columns]"
      ]
     },
     "execution_count": 12,
     "metadata": {},
     "output_type": "execute_result"
    }
   ],
   "source": [
    "data = pd.merge(data_losses, data_risk, how='outer')\n",
    "data = pd.merge(data_spec, data, how='outer')\n",
    "data.head(10)"
   ]
  },
  {
   "cell_type": "markdown",
   "metadata": {},
   "source": [
    "### 2. Quick-look (dimension, data type, head/tail, summary statistics, etc)"
   ]
  },
  {
   "cell_type": "code",
   "execution_count": 13,
   "metadata": {},
   "outputs": [
    {
     "data": {
      "text/plain": [
       "(205, 27)"
      ]
     },
     "execution_count": 13,
     "metadata": {},
     "output_type": "execute_result"
    }
   ],
   "source": [
    "#Dimension\n",
    "data.shape #ada 205 rows dan 27 columns"
   ]
  },
  {
   "cell_type": "code",
   "execution_count": 14,
   "metadata": {},
   "outputs": [
    {
     "data": {
      "text/plain": [
       "2"
      ]
     },
     "execution_count": 14,
     "metadata": {},
     "output_type": "execute_result"
    }
   ],
   "source": [
    "data.ndim # 2 dimension"
   ]
  },
  {
   "cell_type": "code",
   "execution_count": 15,
   "metadata": {},
   "outputs": [
    {
     "data": {
      "text/plain": [
       "ID                     int64\n",
       "make                  object\n",
       "fuel-type             object\n",
       "aspiration            object\n",
       "num-of-doors          object\n",
       "body-style            object\n",
       "drive-wheel           object\n",
       "engine-loc            object\n",
       "wheel-base           float64\n",
       "length               float64\n",
       "width                float64\n",
       "height               float64\n",
       "curb-weight            int64\n",
       "engine-type           object\n",
       "cylinder              object\n",
       "engine-size            int64\n",
       "fuel-system           object\n",
       "bore                 float64\n",
       "stroke               float64\n",
       "compression-ratio    float64\n",
       "horsepower           float64\n",
       "peak-rpm             float64\n",
       "city-mpg               int64\n",
       "highway-mpg            int64\n",
       "price                float64\n",
       "normalized-losses    float64\n",
       "symboling              int64\n",
       "dtype: object"
      ]
     },
     "execution_count": 15,
     "metadata": {},
     "output_type": "execute_result"
    }
   ],
   "source": [
    "#Data Types\n",
    "data.dtypes"
   ]
  },
  {
   "cell_type": "code",
   "execution_count": 16,
   "metadata": {},
   "outputs": [
    {
     "name": "stdout",
     "output_type": "stream",
     "text": [
      "<class 'pandas.core.frame.DataFrame'>\n",
      "Int64Index: 205 entries, 0 to 204\n",
      "Data columns (total 27 columns):\n",
      "ID                   205 non-null int64\n",
      "make                 205 non-null object\n",
      "fuel-type            205 non-null object\n",
      "aspiration           205 non-null object\n",
      "num-of-doors         204 non-null object\n",
      "body-style           205 non-null object\n",
      "drive-wheel          205 non-null object\n",
      "engine-loc           205 non-null object\n",
      "wheel-base           205 non-null float64\n",
      "length               205 non-null float64\n",
      "width                205 non-null float64\n",
      "height               205 non-null float64\n",
      "curb-weight          205 non-null int64\n",
      "engine-type          205 non-null object\n",
      "cylinder             205 non-null object\n",
      "engine-size          205 non-null int64\n",
      "fuel-system          205 non-null object\n",
      "bore                 201 non-null float64\n",
      "stroke               201 non-null float64\n",
      "compression-ratio    205 non-null float64\n",
      "horsepower           203 non-null float64\n",
      "peak-rpm             203 non-null float64\n",
      "city-mpg             205 non-null int64\n",
      "highway-mpg          205 non-null int64\n",
      "price                201 non-null float64\n",
      "normalized-losses    164 non-null float64\n",
      "symboling            205 non-null int64\n",
      "dtypes: float64(11), int64(6), object(10)\n",
      "memory usage: 44.8+ KB\n"
     ]
    }
   ],
   "source": [
    "data.info()"
   ]
  },
  {
   "cell_type": "code",
   "execution_count": 17,
   "metadata": {},
   "outputs": [
    {
     "data": {
      "text/html": [
       "<div>\n",
       "<style scoped>\n",
       "    .dataframe tbody tr th:only-of-type {\n",
       "        vertical-align: middle;\n",
       "    }\n",
       "\n",
       "    .dataframe tbody tr th {\n",
       "        vertical-align: top;\n",
       "    }\n",
       "\n",
       "    .dataframe thead th {\n",
       "        text-align: right;\n",
       "    }\n",
       "</style>\n",
       "<table border=\"1\" class=\"dataframe\">\n",
       "  <thead>\n",
       "    <tr style=\"text-align: right;\">\n",
       "      <th></th>\n",
       "      <th>ID</th>\n",
       "      <th>make</th>\n",
       "      <th>fuel-type</th>\n",
       "      <th>aspiration</th>\n",
       "      <th>num-of-doors</th>\n",
       "      <th>body-style</th>\n",
       "      <th>drive-wheel</th>\n",
       "      <th>engine-loc</th>\n",
       "      <th>wheel-base</th>\n",
       "      <th>length</th>\n",
       "      <th>...</th>\n",
       "      <th>bore</th>\n",
       "      <th>stroke</th>\n",
       "      <th>compression-ratio</th>\n",
       "      <th>horsepower</th>\n",
       "      <th>peak-rpm</th>\n",
       "      <th>city-mpg</th>\n",
       "      <th>highway-mpg</th>\n",
       "      <th>price</th>\n",
       "      <th>normalized-losses</th>\n",
       "      <th>symboling</th>\n",
       "    </tr>\n",
       "  </thead>\n",
       "  <tbody>\n",
       "    <tr>\n",
       "      <th>0</th>\n",
       "      <td>1</td>\n",
       "      <td>alfa-romero</td>\n",
       "      <td>gas</td>\n",
       "      <td>std</td>\n",
       "      <td>two</td>\n",
       "      <td>convertible</td>\n",
       "      <td>rwd</td>\n",
       "      <td>front</td>\n",
       "      <td>88.6</td>\n",
       "      <td>168.8</td>\n",
       "      <td>...</td>\n",
       "      <td>3.47</td>\n",
       "      <td>2.68</td>\n",
       "      <td>9.0</td>\n",
       "      <td>111.0</td>\n",
       "      <td>5000.0</td>\n",
       "      <td>21</td>\n",
       "      <td>27</td>\n",
       "      <td>13495.0</td>\n",
       "      <td>NaN</td>\n",
       "      <td>3</td>\n",
       "    </tr>\n",
       "    <tr>\n",
       "      <th>1</th>\n",
       "      <td>2</td>\n",
       "      <td>alfa-romero</td>\n",
       "      <td>gas</td>\n",
       "      <td>std</td>\n",
       "      <td>two</td>\n",
       "      <td>convertible</td>\n",
       "      <td>rwd</td>\n",
       "      <td>front</td>\n",
       "      <td>88.6</td>\n",
       "      <td>168.8</td>\n",
       "      <td>...</td>\n",
       "      <td>3.47</td>\n",
       "      <td>2.68</td>\n",
       "      <td>9.0</td>\n",
       "      <td>111.0</td>\n",
       "      <td>5000.0</td>\n",
       "      <td>21</td>\n",
       "      <td>27</td>\n",
       "      <td>16500.0</td>\n",
       "      <td>NaN</td>\n",
       "      <td>3</td>\n",
       "    </tr>\n",
       "    <tr>\n",
       "      <th>2</th>\n",
       "      <td>3</td>\n",
       "      <td>alfa-romero</td>\n",
       "      <td>gas</td>\n",
       "      <td>std</td>\n",
       "      <td>two</td>\n",
       "      <td>hatchback</td>\n",
       "      <td>rwd</td>\n",
       "      <td>front</td>\n",
       "      <td>94.5</td>\n",
       "      <td>171.2</td>\n",
       "      <td>...</td>\n",
       "      <td>2.68</td>\n",
       "      <td>3.47</td>\n",
       "      <td>9.0</td>\n",
       "      <td>154.0</td>\n",
       "      <td>5000.0</td>\n",
       "      <td>19</td>\n",
       "      <td>26</td>\n",
       "      <td>16500.0</td>\n",
       "      <td>NaN</td>\n",
       "      <td>1</td>\n",
       "    </tr>\n",
       "    <tr>\n",
       "      <th>3</th>\n",
       "      <td>4</td>\n",
       "      <td>audi</td>\n",
       "      <td>gas</td>\n",
       "      <td>std</td>\n",
       "      <td>four</td>\n",
       "      <td>sedan</td>\n",
       "      <td>fwd</td>\n",
       "      <td>front</td>\n",
       "      <td>99.8</td>\n",
       "      <td>176.6</td>\n",
       "      <td>...</td>\n",
       "      <td>3.19</td>\n",
       "      <td>3.40</td>\n",
       "      <td>10.0</td>\n",
       "      <td>102.0</td>\n",
       "      <td>5500.0</td>\n",
       "      <td>24</td>\n",
       "      <td>30</td>\n",
       "      <td>13950.0</td>\n",
       "      <td>164.0</td>\n",
       "      <td>2</td>\n",
       "    </tr>\n",
       "    <tr>\n",
       "      <th>4</th>\n",
       "      <td>5</td>\n",
       "      <td>audi</td>\n",
       "      <td>gas</td>\n",
       "      <td>std</td>\n",
       "      <td>four</td>\n",
       "      <td>sedan</td>\n",
       "      <td>4wd</td>\n",
       "      <td>front</td>\n",
       "      <td>99.4</td>\n",
       "      <td>176.6</td>\n",
       "      <td>...</td>\n",
       "      <td>3.19</td>\n",
       "      <td>3.40</td>\n",
       "      <td>8.0</td>\n",
       "      <td>115.0</td>\n",
       "      <td>5500.0</td>\n",
       "      <td>18</td>\n",
       "      <td>22</td>\n",
       "      <td>17450.0</td>\n",
       "      <td>164.0</td>\n",
       "      <td>2</td>\n",
       "    </tr>\n",
       "  </tbody>\n",
       "</table>\n",
       "<p>5 rows × 27 columns</p>\n",
       "</div>"
      ],
      "text/plain": [
       "   ID         make fuel-type aspiration num-of-doors   body-style drive-wheel  \\\n",
       "0   1  alfa-romero       gas        std          two  convertible         rwd   \n",
       "1   2  alfa-romero       gas        std          two  convertible         rwd   \n",
       "2   3  alfa-romero       gas        std          two    hatchback         rwd   \n",
       "3   4         audi       gas        std         four        sedan         fwd   \n",
       "4   5         audi       gas        std         four        sedan         4wd   \n",
       "\n",
       "  engine-loc  wheel-base  length    ...      bore  stroke  compression-ratio  \\\n",
       "0      front        88.6   168.8    ...      3.47    2.68                9.0   \n",
       "1      front        88.6   168.8    ...      3.47    2.68                9.0   \n",
       "2      front        94.5   171.2    ...      2.68    3.47                9.0   \n",
       "3      front        99.8   176.6    ...      3.19    3.40               10.0   \n",
       "4      front        99.4   176.6    ...      3.19    3.40                8.0   \n",
       "\n",
       "  horsepower peak-rpm  city-mpg highway-mpg    price  normalized-losses  \\\n",
       "0      111.0   5000.0        21          27  13495.0                NaN   \n",
       "1      111.0   5000.0        21          27  16500.0                NaN   \n",
       "2      154.0   5000.0        19          26  16500.0                NaN   \n",
       "3      102.0   5500.0        24          30  13950.0              164.0   \n",
       "4      115.0   5500.0        18          22  17450.0              164.0   \n",
       "\n",
       "   symboling  \n",
       "0          3  \n",
       "1          3  \n",
       "2          1  \n",
       "3          2  \n",
       "4          2  \n",
       "\n",
       "[5 rows x 27 columns]"
      ]
     },
     "execution_count": 17,
     "metadata": {},
     "output_type": "execute_result"
    }
   ],
   "source": [
    "data.head()"
   ]
  },
  {
   "cell_type": "code",
   "execution_count": 18,
   "metadata": {},
   "outputs": [
    {
     "data": {
      "text/html": [
       "<div>\n",
       "<style scoped>\n",
       "    .dataframe tbody tr th:only-of-type {\n",
       "        vertical-align: middle;\n",
       "    }\n",
       "\n",
       "    .dataframe tbody tr th {\n",
       "        vertical-align: top;\n",
       "    }\n",
       "\n",
       "    .dataframe thead th {\n",
       "        text-align: right;\n",
       "    }\n",
       "</style>\n",
       "<table border=\"1\" class=\"dataframe\">\n",
       "  <thead>\n",
       "    <tr style=\"text-align: right;\">\n",
       "      <th></th>\n",
       "      <th>ID</th>\n",
       "      <th>make</th>\n",
       "      <th>fuel-type</th>\n",
       "      <th>aspiration</th>\n",
       "      <th>num-of-doors</th>\n",
       "      <th>body-style</th>\n",
       "      <th>drive-wheel</th>\n",
       "      <th>engine-loc</th>\n",
       "      <th>wheel-base</th>\n",
       "      <th>length</th>\n",
       "      <th>...</th>\n",
       "      <th>bore</th>\n",
       "      <th>stroke</th>\n",
       "      <th>compression-ratio</th>\n",
       "      <th>horsepower</th>\n",
       "      <th>peak-rpm</th>\n",
       "      <th>city-mpg</th>\n",
       "      <th>highway-mpg</th>\n",
       "      <th>price</th>\n",
       "      <th>normalized-losses</th>\n",
       "      <th>symboling</th>\n",
       "    </tr>\n",
       "  </thead>\n",
       "  <tbody>\n",
       "    <tr>\n",
       "      <th>200</th>\n",
       "      <td>201</td>\n",
       "      <td>volvo</td>\n",
       "      <td>gas</td>\n",
       "      <td>std</td>\n",
       "      <td>four</td>\n",
       "      <td>sedan</td>\n",
       "      <td>rwd</td>\n",
       "      <td>front</td>\n",
       "      <td>109.1</td>\n",
       "      <td>188.8</td>\n",
       "      <td>...</td>\n",
       "      <td>3.78</td>\n",
       "      <td>3.15</td>\n",
       "      <td>9.5</td>\n",
       "      <td>114.0</td>\n",
       "      <td>5400.0</td>\n",
       "      <td>23</td>\n",
       "      <td>28</td>\n",
       "      <td>16845.0</td>\n",
       "      <td>95.0</td>\n",
       "      <td>-1</td>\n",
       "    </tr>\n",
       "    <tr>\n",
       "      <th>201</th>\n",
       "      <td>202</td>\n",
       "      <td>volvo</td>\n",
       "      <td>gas</td>\n",
       "      <td>turbo</td>\n",
       "      <td>four</td>\n",
       "      <td>sedan</td>\n",
       "      <td>rwd</td>\n",
       "      <td>front</td>\n",
       "      <td>109.1</td>\n",
       "      <td>188.8</td>\n",
       "      <td>...</td>\n",
       "      <td>3.78</td>\n",
       "      <td>3.15</td>\n",
       "      <td>8.7</td>\n",
       "      <td>160.0</td>\n",
       "      <td>5300.0</td>\n",
       "      <td>19</td>\n",
       "      <td>25</td>\n",
       "      <td>19045.0</td>\n",
       "      <td>95.0</td>\n",
       "      <td>-1</td>\n",
       "    </tr>\n",
       "    <tr>\n",
       "      <th>202</th>\n",
       "      <td>203</td>\n",
       "      <td>volvo</td>\n",
       "      <td>gas</td>\n",
       "      <td>std</td>\n",
       "      <td>four</td>\n",
       "      <td>sedan</td>\n",
       "      <td>rwd</td>\n",
       "      <td>front</td>\n",
       "      <td>109.1</td>\n",
       "      <td>188.8</td>\n",
       "      <td>...</td>\n",
       "      <td>3.58</td>\n",
       "      <td>2.87</td>\n",
       "      <td>8.8</td>\n",
       "      <td>134.0</td>\n",
       "      <td>5500.0</td>\n",
       "      <td>18</td>\n",
       "      <td>23</td>\n",
       "      <td>21485.0</td>\n",
       "      <td>95.0</td>\n",
       "      <td>-1</td>\n",
       "    </tr>\n",
       "    <tr>\n",
       "      <th>203</th>\n",
       "      <td>204</td>\n",
       "      <td>volvo</td>\n",
       "      <td>diesel</td>\n",
       "      <td>turbo</td>\n",
       "      <td>four</td>\n",
       "      <td>sedan</td>\n",
       "      <td>rwd</td>\n",
       "      <td>front</td>\n",
       "      <td>109.1</td>\n",
       "      <td>188.8</td>\n",
       "      <td>...</td>\n",
       "      <td>3.01</td>\n",
       "      <td>3.40</td>\n",
       "      <td>23.0</td>\n",
       "      <td>106.0</td>\n",
       "      <td>4800.0</td>\n",
       "      <td>26</td>\n",
       "      <td>27</td>\n",
       "      <td>22470.0</td>\n",
       "      <td>95.0</td>\n",
       "      <td>-1</td>\n",
       "    </tr>\n",
       "    <tr>\n",
       "      <th>204</th>\n",
       "      <td>205</td>\n",
       "      <td>volvo</td>\n",
       "      <td>gas</td>\n",
       "      <td>turbo</td>\n",
       "      <td>four</td>\n",
       "      <td>sedan</td>\n",
       "      <td>rwd</td>\n",
       "      <td>front</td>\n",
       "      <td>109.1</td>\n",
       "      <td>188.8</td>\n",
       "      <td>...</td>\n",
       "      <td>3.78</td>\n",
       "      <td>3.15</td>\n",
       "      <td>9.5</td>\n",
       "      <td>114.0</td>\n",
       "      <td>5400.0</td>\n",
       "      <td>19</td>\n",
       "      <td>25</td>\n",
       "      <td>22625.0</td>\n",
       "      <td>95.0</td>\n",
       "      <td>-1</td>\n",
       "    </tr>\n",
       "  </tbody>\n",
       "</table>\n",
       "<p>5 rows × 27 columns</p>\n",
       "</div>"
      ],
      "text/plain": [
       "      ID   make fuel-type aspiration num-of-doors body-style drive-wheel  \\\n",
       "200  201  volvo       gas        std         four      sedan         rwd   \n",
       "201  202  volvo       gas      turbo         four      sedan         rwd   \n",
       "202  203  volvo       gas        std         four      sedan         rwd   \n",
       "203  204  volvo    diesel      turbo         four      sedan         rwd   \n",
       "204  205  volvo       gas      turbo         four      sedan         rwd   \n",
       "\n",
       "    engine-loc  wheel-base  length    ...      bore  stroke  \\\n",
       "200      front       109.1   188.8    ...      3.78    3.15   \n",
       "201      front       109.1   188.8    ...      3.78    3.15   \n",
       "202      front       109.1   188.8    ...      3.58    2.87   \n",
       "203      front       109.1   188.8    ...      3.01    3.40   \n",
       "204      front       109.1   188.8    ...      3.78    3.15   \n",
       "\n",
       "     compression-ratio horsepower peak-rpm  city-mpg highway-mpg    price  \\\n",
       "200                9.5      114.0   5400.0        23          28  16845.0   \n",
       "201                8.7      160.0   5300.0        19          25  19045.0   \n",
       "202                8.8      134.0   5500.0        18          23  21485.0   \n",
       "203               23.0      106.0   4800.0        26          27  22470.0   \n",
       "204                9.5      114.0   5400.0        19          25  22625.0   \n",
       "\n",
       "     normalized-losses  symboling  \n",
       "200               95.0         -1  \n",
       "201               95.0         -1  \n",
       "202               95.0         -1  \n",
       "203               95.0         -1  \n",
       "204               95.0         -1  \n",
       "\n",
       "[5 rows x 27 columns]"
      ]
     },
     "execution_count": 18,
     "metadata": {},
     "output_type": "execute_result"
    }
   ],
   "source": [
    "data.tail()"
   ]
  },
  {
   "cell_type": "code",
   "execution_count": 19,
   "metadata": {},
   "outputs": [
    {
     "data": {
      "text/plain": [
       "count      201.000000\n",
       "mean     13207.129353\n",
       "std       7947.066342\n",
       "min       5118.000000\n",
       "25%       7775.000000\n",
       "50%      10295.000000\n",
       "75%      16500.000000\n",
       "max      45400.000000\n",
       "Name: price, dtype: float64"
      ]
     },
     "execution_count": 19,
     "metadata": {},
     "output_type": "execute_result"
    }
   ],
   "source": [
    "data['price'].describe()"
   ]
  },
  {
   "cell_type": "markdown",
   "metadata": {},
   "source": [
    "### 3. Identify missing value. If any, how will you handle it?"
   ]
  },
  {
   "cell_type": "code",
   "execution_count": 20,
   "metadata": {},
   "outputs": [
    {
     "data": {
      "text/plain": [
       "ID                    0\n",
       "make                  0\n",
       "fuel-type             0\n",
       "aspiration            0\n",
       "num-of-doors          1\n",
       "body-style            0\n",
       "drive-wheel           0\n",
       "engine-loc            0\n",
       "wheel-base            0\n",
       "length                0\n",
       "width                 0\n",
       "height                0\n",
       "curb-weight           0\n",
       "engine-type           0\n",
       "cylinder              0\n",
       "engine-size           0\n",
       "fuel-system           0\n",
       "bore                  4\n",
       "stroke                4\n",
       "compression-ratio     0\n",
       "horsepower            2\n",
       "peak-rpm              2\n",
       "city-mpg              0\n",
       "highway-mpg           0\n",
       "price                 4\n",
       "normalized-losses    41\n",
       "symboling             0\n",
       "dtype: int64"
      ]
     },
     "execution_count": 20,
     "metadata": {},
     "output_type": "execute_result"
    }
   ],
   "source": [
    "count_missing = data.isnull().sum()\n",
    "count_missing"
   ]
  },
  {
   "cell_type": "code",
   "execution_count": 21,
   "metadata": {},
   "outputs": [
    {
     "data": {
      "text/plain": [
       "ID                     0.00\n",
       "make                   0.00\n",
       "fuel-type              0.00\n",
       "aspiration             0.00\n",
       "num-of-doors           3.70\n",
       "body-style             0.00\n",
       "drive-wheel            0.00\n",
       "engine-loc             0.00\n",
       "wheel-base             0.00\n",
       "length                 0.00\n",
       "width                  0.00\n",
       "height                 0.00\n",
       "curb-weight            0.00\n",
       "engine-type            0.00\n",
       "cylinder               0.00\n",
       "engine-size            0.00\n",
       "fuel-system            0.00\n",
       "bore                  14.81\n",
       "stroke                14.81\n",
       "compression-ratio      0.00\n",
       "horsepower             7.41\n",
       "peak-rpm               7.41\n",
       "city-mpg               0.00\n",
       "highway-mpg            0.00\n",
       "price                 14.81\n",
       "normalized-losses    151.85\n",
       "symboling              0.00\n",
       "dtype: float64"
      ]
     },
     "execution_count": 21,
     "metadata": {},
     "output_type": "execute_result"
    }
   ],
   "source": [
    "percentage = round(count_missing/len(count_missing)*100,2)\n",
    "percentage"
   ]
  },
  {
   "cell_type": "markdown",
   "metadata": {},
   "source": [
    "ada 7 kolom yang beberapa datanya missing. yang saya lakukan:\n",
    "1. di kolom normalized-losses saya drop kolomnya karena nilai yang kosong sangat banyak\n",
    "2. data yang hilang di kolom 'num-of-doors' saya drop\n",
    "3. data yang missing di bore, stroke, horsepower, peak-rpm saya isi dengan median dari data tsb\n",
    "4. data yang missing di price dan num-of-doors saya drop"
   ]
  },
  {
   "cell_type": "code",
   "execution_count": 22,
   "metadata": {},
   "outputs": [],
   "source": [
    "data = data.drop(columns='normalized-losses')"
   ]
  },
  {
   "cell_type": "code",
   "execution_count": 23,
   "metadata": {},
   "outputs": [
    {
     "data": {
      "text/plain": [
       "0     two\n",
       "1     two\n",
       "2     two\n",
       "3    four\n",
       "4    four\n",
       "Name: num-of-doors, dtype: object"
      ]
     },
     "execution_count": 23,
     "metadata": {},
     "output_type": "execute_result"
    }
   ],
   "source": [
    "data['num-of-doors'].head()"
   ]
  },
  {
   "cell_type": "code",
   "execution_count": 24,
   "metadata": {},
   "outputs": [],
   "source": [
    "bore_median = data['bore'].median()\n",
    "stroke_median = data['stroke'].median()\n",
    "horsepower_median = data['horsepower'].median()\n",
    "peak_median = data['peak-rpm'].median()"
   ]
  },
  {
   "cell_type": "code",
   "execution_count": 25,
   "metadata": {},
   "outputs": [],
   "source": [
    "data = data.fillna({\n",
    "    'bore':bore_median,\n",
    "    'stroke':stroke_median,\n",
    "    'horsepower':horsepower_median,\n",
    "    'peak-rpm':peak_median\n",
    "})"
   ]
  },
  {
   "cell_type": "code",
   "execution_count": 26,
   "metadata": {},
   "outputs": [
    {
     "data": {
      "text/plain": [
       "(205, 26)"
      ]
     },
     "execution_count": 26,
     "metadata": {},
     "output_type": "execute_result"
    }
   ],
   "source": [
    "data.shape"
   ]
  },
  {
   "cell_type": "code",
   "execution_count": 27,
   "metadata": {},
   "outputs": [],
   "source": [
    "data = data.dropna()"
   ]
  },
  {
   "cell_type": "code",
   "execution_count": 28,
   "metadata": {},
   "outputs": [
    {
     "data": {
      "text/plain": [
       "(200, 26)"
      ]
     },
     "execution_count": 28,
     "metadata": {},
     "output_type": "execute_result"
    }
   ],
   "source": [
    "data.shape"
   ]
  },
  {
   "cell_type": "code",
   "execution_count": 29,
   "metadata": {},
   "outputs": [
    {
     "data": {
      "text/plain": [
       "ID                   0\n",
       "make                 0\n",
       "fuel-type            0\n",
       "aspiration           0\n",
       "num-of-doors         0\n",
       "body-style           0\n",
       "drive-wheel          0\n",
       "engine-loc           0\n",
       "wheel-base           0\n",
       "length               0\n",
       "width                0\n",
       "height               0\n",
       "curb-weight          0\n",
       "engine-type          0\n",
       "cylinder             0\n",
       "engine-size          0\n",
       "fuel-system          0\n",
       "bore                 0\n",
       "stroke               0\n",
       "compression-ratio    0\n",
       "horsepower           0\n",
       "peak-rpm             0\n",
       "city-mpg             0\n",
       "highway-mpg          0\n",
       "price                0\n",
       "symboling            0\n",
       "dtype: int64"
      ]
     },
     "execution_count": 29,
     "metadata": {},
     "output_type": "execute_result"
    }
   ],
   "source": [
    "data.isnull().sum()"
   ]
  },
  {
   "cell_type": "markdown",
   "metadata": {},
   "source": [
    "## 5. Perform visualization using at least 5 difference visualization technique (barplot, scatter plot, area, boxplot, pie chart, line chart, etc)"
   ]
  },
  {
   "cell_type": "markdown",
   "metadata": {},
   "source": [
    "### Univariate Analysis"
   ]
  },
  {
   "cell_type": "code",
   "execution_count": 30,
   "metadata": {},
   "outputs": [
    {
     "data": {
      "text/html": [
       "<div>\n",
       "<style scoped>\n",
       "    .dataframe tbody tr th:only-of-type {\n",
       "        vertical-align: middle;\n",
       "    }\n",
       "\n",
       "    .dataframe tbody tr th {\n",
       "        vertical-align: top;\n",
       "    }\n",
       "\n",
       "    .dataframe thead th {\n",
       "        text-align: right;\n",
       "    }\n",
       "</style>\n",
       "<table border=\"1\" class=\"dataframe\">\n",
       "  <thead>\n",
       "    <tr style=\"text-align: right;\">\n",
       "      <th></th>\n",
       "      <th>ID</th>\n",
       "      <th>make</th>\n",
       "      <th>fuel-type</th>\n",
       "      <th>aspiration</th>\n",
       "      <th>num-of-doors</th>\n",
       "      <th>body-style</th>\n",
       "      <th>drive-wheel</th>\n",
       "      <th>engine-loc</th>\n",
       "      <th>wheel-base</th>\n",
       "      <th>length</th>\n",
       "      <th>...</th>\n",
       "      <th>fuel-system</th>\n",
       "      <th>bore</th>\n",
       "      <th>stroke</th>\n",
       "      <th>compression-ratio</th>\n",
       "      <th>horsepower</th>\n",
       "      <th>peak-rpm</th>\n",
       "      <th>city-mpg</th>\n",
       "      <th>highway-mpg</th>\n",
       "      <th>price</th>\n",
       "      <th>symboling</th>\n",
       "    </tr>\n",
       "  </thead>\n",
       "  <tbody>\n",
       "    <tr>\n",
       "      <th>0</th>\n",
       "      <td>1</td>\n",
       "      <td>alfa-romero</td>\n",
       "      <td>gas</td>\n",
       "      <td>std</td>\n",
       "      <td>two</td>\n",
       "      <td>convertible</td>\n",
       "      <td>rwd</td>\n",
       "      <td>front</td>\n",
       "      <td>88.6</td>\n",
       "      <td>168.8</td>\n",
       "      <td>...</td>\n",
       "      <td>mpfi</td>\n",
       "      <td>3.47</td>\n",
       "      <td>2.68</td>\n",
       "      <td>9.0</td>\n",
       "      <td>111.0</td>\n",
       "      <td>5000.0</td>\n",
       "      <td>21</td>\n",
       "      <td>27</td>\n",
       "      <td>13495.0</td>\n",
       "      <td>3</td>\n",
       "    </tr>\n",
       "    <tr>\n",
       "      <th>1</th>\n",
       "      <td>2</td>\n",
       "      <td>alfa-romero</td>\n",
       "      <td>gas</td>\n",
       "      <td>std</td>\n",
       "      <td>two</td>\n",
       "      <td>convertible</td>\n",
       "      <td>rwd</td>\n",
       "      <td>front</td>\n",
       "      <td>88.6</td>\n",
       "      <td>168.8</td>\n",
       "      <td>...</td>\n",
       "      <td>mpfi</td>\n",
       "      <td>3.47</td>\n",
       "      <td>2.68</td>\n",
       "      <td>9.0</td>\n",
       "      <td>111.0</td>\n",
       "      <td>5000.0</td>\n",
       "      <td>21</td>\n",
       "      <td>27</td>\n",
       "      <td>16500.0</td>\n",
       "      <td>3</td>\n",
       "    </tr>\n",
       "    <tr>\n",
       "      <th>2</th>\n",
       "      <td>3</td>\n",
       "      <td>alfa-romero</td>\n",
       "      <td>gas</td>\n",
       "      <td>std</td>\n",
       "      <td>two</td>\n",
       "      <td>hatchback</td>\n",
       "      <td>rwd</td>\n",
       "      <td>front</td>\n",
       "      <td>94.5</td>\n",
       "      <td>171.2</td>\n",
       "      <td>...</td>\n",
       "      <td>mpfi</td>\n",
       "      <td>2.68</td>\n",
       "      <td>3.47</td>\n",
       "      <td>9.0</td>\n",
       "      <td>154.0</td>\n",
       "      <td>5000.0</td>\n",
       "      <td>19</td>\n",
       "      <td>26</td>\n",
       "      <td>16500.0</td>\n",
       "      <td>1</td>\n",
       "    </tr>\n",
       "    <tr>\n",
       "      <th>3</th>\n",
       "      <td>4</td>\n",
       "      <td>audi</td>\n",
       "      <td>gas</td>\n",
       "      <td>std</td>\n",
       "      <td>four</td>\n",
       "      <td>sedan</td>\n",
       "      <td>fwd</td>\n",
       "      <td>front</td>\n",
       "      <td>99.8</td>\n",
       "      <td>176.6</td>\n",
       "      <td>...</td>\n",
       "      <td>mpfi</td>\n",
       "      <td>3.19</td>\n",
       "      <td>3.40</td>\n",
       "      <td>10.0</td>\n",
       "      <td>102.0</td>\n",
       "      <td>5500.0</td>\n",
       "      <td>24</td>\n",
       "      <td>30</td>\n",
       "      <td>13950.0</td>\n",
       "      <td>2</td>\n",
       "    </tr>\n",
       "    <tr>\n",
       "      <th>4</th>\n",
       "      <td>5</td>\n",
       "      <td>audi</td>\n",
       "      <td>gas</td>\n",
       "      <td>std</td>\n",
       "      <td>four</td>\n",
       "      <td>sedan</td>\n",
       "      <td>4wd</td>\n",
       "      <td>front</td>\n",
       "      <td>99.4</td>\n",
       "      <td>176.6</td>\n",
       "      <td>...</td>\n",
       "      <td>mpfi</td>\n",
       "      <td>3.19</td>\n",
       "      <td>3.40</td>\n",
       "      <td>8.0</td>\n",
       "      <td>115.0</td>\n",
       "      <td>5500.0</td>\n",
       "      <td>18</td>\n",
       "      <td>22</td>\n",
       "      <td>17450.0</td>\n",
       "      <td>2</td>\n",
       "    </tr>\n",
       "  </tbody>\n",
       "</table>\n",
       "<p>5 rows × 26 columns</p>\n",
       "</div>"
      ],
      "text/plain": [
       "   ID         make fuel-type aspiration num-of-doors   body-style drive-wheel  \\\n",
       "0   1  alfa-romero       gas        std          two  convertible         rwd   \n",
       "1   2  alfa-romero       gas        std          two  convertible         rwd   \n",
       "2   3  alfa-romero       gas        std          two    hatchback         rwd   \n",
       "3   4         audi       gas        std         four        sedan         fwd   \n",
       "4   5         audi       gas        std         four        sedan         4wd   \n",
       "\n",
       "  engine-loc  wheel-base  length    ...      fuel-system  bore  stroke  \\\n",
       "0      front        88.6   168.8    ...             mpfi  3.47    2.68   \n",
       "1      front        88.6   168.8    ...             mpfi  3.47    2.68   \n",
       "2      front        94.5   171.2    ...             mpfi  2.68    3.47   \n",
       "3      front        99.8   176.6    ...             mpfi  3.19    3.40   \n",
       "4      front        99.4   176.6    ...             mpfi  3.19    3.40   \n",
       "\n",
       "  compression-ratio horsepower  peak-rpm city-mpg  highway-mpg    price  \\\n",
       "0               9.0      111.0    5000.0       21           27  13495.0   \n",
       "1               9.0      111.0    5000.0       21           27  16500.0   \n",
       "2               9.0      154.0    5000.0       19           26  16500.0   \n",
       "3              10.0      102.0    5500.0       24           30  13950.0   \n",
       "4               8.0      115.0    5500.0       18           22  17450.0   \n",
       "\n",
       "   symboling  \n",
       "0          3  \n",
       "1          3  \n",
       "2          1  \n",
       "3          2  \n",
       "4          2  \n",
       "\n",
       "[5 rows x 26 columns]"
      ]
     },
     "execution_count": 30,
     "metadata": {},
     "output_type": "execute_result"
    }
   ],
   "source": [
    "data.head()"
   ]
  },
  {
   "cell_type": "code",
   "execution_count": 31,
   "metadata": {},
   "outputs": [
    {
     "data": {
      "text/plain": [
       "<matplotlib.axes._subplots.AxesSubplot at 0x1eb5d2829e8>"
      ]
     },
     "execution_count": 31,
     "metadata": {},
     "output_type": "execute_result"
    },
    {
     "data": {
      "image/png": "[encoded data removed]",
      "text/plain": [
       "<matplotlib.figure.Figure at 0x1eb5ceb4550>"
      ]
     },
     "metadata": {},
     "output_type": "display_data"
    }
   ],
   "source": [
    "sns.set_palette(\"RdGy\")\n",
    "sns.countplot(data['fuel-type'])"
   ]
  },
  {
   "cell_type": "markdown",
   "metadata": {},
   "source": [
    "Dapat dilihat bahwa bahan bakar mobil yang paling banyak digunakan adalah GAS"
   ]
  },
  {
   "cell_type": "code",
   "execution_count": 32,
   "metadata": {},
   "outputs": [
    {
     "data": {
      "text/html": [
       "<div>\n",
       "<style scoped>\n",
       "    .dataframe tbody tr th:only-of-type {\n",
       "        vertical-align: middle;\n",
       "    }\n",
       "\n",
       "    .dataframe tbody tr th {\n",
       "        vertical-align: top;\n",
       "    }\n",
       "\n",
       "    .dataframe thead th {\n",
       "        text-align: right;\n",
       "    }\n",
       "</style>\n",
       "<table border=\"1\" class=\"dataframe\">\n",
       "  <thead>\n",
       "    <tr style=\"text-align: right;\">\n",
       "      <th></th>\n",
       "      <th>num-of-doors</th>\n",
       "      <th>Count</th>\n",
       "    </tr>\n",
       "  </thead>\n",
       "  <tbody>\n",
       "    <tr>\n",
       "      <th>1</th>\n",
       "      <td>four</td>\n",
       "      <td>113</td>\n",
       "    </tr>\n",
       "    <tr>\n",
       "      <th>2</th>\n",
       "      <td>two</td>\n",
       "      <td>86</td>\n",
       "    </tr>\n",
       "  </tbody>\n",
       "</table>\n",
       "</div>"
      ],
      "text/plain": [
       "  num-of-doors  Count\n",
       "1         four    113\n",
       "2          two     86"
      ]
     },
     "execution_count": 32,
     "metadata": {},
     "output_type": "execute_result"
    }
   ],
   "source": [
    "num_doors = data.groupby('num-of-doors').ID.count().reset_index()\n",
    "num_doors = num_doors.drop([0])\n",
    "num_doors = num_doors.rename(columns=\n",
    "    {'ID':'Count'}\n",
    ")\n",
    "num_doors"
   ]
  },
  {
   "cell_type": "code",
   "execution_count": 33,
   "metadata": {},
   "outputs": [
    {
     "data": {
      "image/png": "[encoded data removed]",
      "text/plain": [
       "<matplotlib.figure.Figure at 0x1eb5cfd8c88>"
      ]
     },
     "metadata": {},
     "output_type": "display_data"
    }
   ],
   "source": [
    "sns.set_palette(\"PiYG\")\n",
    "plt.pie(num_doors['Count'], labels=num_doors['num-of-doors'], autopct='%.2f')\n",
    "plt.axis('equal')\n",
    "plt.show()"
   ]
  },
  {
   "cell_type": "markdown",
   "metadata": {},
   "source": [
    "jumlah pintu empat masih mendominasi namun selisihnya dengan jumlah pintu 2 tidak terlalu signifikan"
   ]
  },
  {
   "cell_type": "code",
   "execution_count": 34,
   "metadata": {},
   "outputs": [
    {
     "data": {
      "text/plain": [
       "<matplotlib.axes._subplots.AxesSubplot at 0x1eb5d282438>"
      ]
     },
     "execution_count": 34,
     "metadata": {},
     "output_type": "execute_result"
    },
    {
     "data": {
      "image/png": "[encoded data removed]",
      "text/plain": [
       "<matplotlib.figure.Figure at 0x1eb5cfd8a58>"
      ]
     },
     "metadata": {},
     "output_type": "display_data"
    }
   ],
   "source": [
    "sns.countplot(data['aspiration'])"
   ]
  },
  {
   "cell_type": "markdown",
   "metadata": {},
   "source": [
    "Jumlah mobil yang memiliki aspiration std jauh lebih banyak daripada yang turbo"
   ]
  },
  {
   "cell_type": "code",
   "execution_count": 35,
   "metadata": {},
   "outputs": [
    {
     "data": {
      "image/png": "[encoded data removed]",
      "text/plain": [
       "<matplotlib.figure.Figure at 0x1eb5d1f85c0>"
      ]
     },
     "metadata": {},
     "output_type": "display_data"
    }
   ],
   "source": [
    "f = plt.figure(figsize=(15,5))\n",
    "f.add_subplot(2,2,1)\n",
    "sns.boxplot(data['horsepower'], color='green')\n",
    "\n",
    "f.add_subplot(2,2,2)\n",
    "sns.boxplot(data['wheel-base'])\n",
    "\n",
    "f.add_subplot(2,2,3)\n",
    "sns.boxplot(data['length'], color='red')\n",
    "\n",
    "f.add_subplot(2,2,4)\n",
    "sns.boxplot(data['width'], color='gray')\n",
    "\n",
    "f.tight_layout()"
   ]
  },
  {
   "cell_type": "markdown",
   "metadata": {},
   "source": [
    "dari keempat variabel ternyata rata2 nilai outliernya masih rendah"
   ]
  },
  {
   "cell_type": "code",
   "execution_count": 36,
   "metadata": {
    "scrolled": true
   },
   "outputs": [
    {
     "data": {
      "image/png": "[encoded data removed]",
      "text/plain": [
       "<matplotlib.figure.Figure at 0x1eb5cf7c438>"
      ]
     },
     "metadata": {},
     "output_type": "display_data"
    }
   ],
   "source": [
    "g = plt.figure(figsize=(15,5))\n",
    "g.add_subplot(3,1,1)\n",
    "sns.distplot(data['compression-ratio'], kde=True, color='blue')\n",
    "\n",
    "g.add_subplot(3,1,2)\n",
    "sns.distplot(data['curb-weight'])\n",
    "\n",
    "g.add_subplot(3,1,3)\n",
    "sns.distplot(data['engine-size'], kde=True, color='green')\n",
    "\n",
    "g.tight_layout()"
   ]
  },
  {
   "cell_type": "markdown",
   "metadata": {},
   "source": [
    "1. untuk compression-ratio sebagian besar distribusi data masih berada di antara nilai 7.5 - 10 (Right Skew)\n",
    "2. untuk curb-weight sebagian besar distribusi data masih berada di antara nilai 2000 - 3500 (Symmetric)\n",
    "3. untuk engine-size sebagian besar distribusi data masih berada di antara nilai 75 - 160 (Right Skew)"
   ]
  },
  {
   "cell_type": "markdown",
   "metadata": {},
   "source": [
    "Top 3 top car makers are Toyota, Mazda and Nissan"
   ]
  },
  {
   "cell_type": "markdown",
   "metadata": {},
   "source": [
    "### Bivariate Analysis"
   ]
  },
  {
   "cell_type": "code",
   "execution_count": null,
   "metadata": {},
   "outputs": [],
   "source": [
    "data.corr().style.background_gradient().set_precision(2)\n",
    "#mencari korelasi antar variabel"
   ]
  },
  {
   "cell_type": "markdown",
   "metadata": {},
   "source": [
    "hubungan yang ingin dicari\n",
    "1. price - engine-size\n",
    "2. price - horsepower\n",
    "3. price - highway-mpg\n",
    "4. length - horsepower\n",
    "5. engine size - height"
   ]
  },
  {
   "cell_type": "code",
   "execution_count": null,
   "metadata": {},
   "outputs": [],
   "source": [
    "sns.regplot(data=data2, x='engine-size', y='price')"
   ]
  },
  {
   "cell_type": "markdown",
   "metadata": {},
   "source": [
    "dapat dilihat bahwa ada korelasi positif antara harga mobil dengan ukuran mesin. semakin besar ukuran mesin maka semakin mahal harga mobil"
   ]
  },
  {
   "cell_type": "code",
   "execution_count": null,
   "metadata": {},
   "outputs": [],
   "source": [
    "plot = sns.barplot(data=data2, x='highway-mpg', y='price')\n",
    "plt.setp(plot.get_xticklabels(), rotation=90)\n",
    "plt.show()"
   ]
  },
  {
   "cell_type": "markdown",
   "metadata": {},
   "source": [
    "ternyata highway-mpg dan price memiliki korelasi yang negatif yaitu semakin besar highway-mpg maka semakin murah juga harganya"
   ]
  },
  {
   "cell_type": "code",
   "execution_count": null,
   "metadata": {},
   "outputs": [],
   "source": [
    "sns.regplot(data=data2, x='horsepower', y='price')"
   ]
  },
  {
   "cell_type": "markdown",
   "metadata": {},
   "source": [
    "korelasi positif terjadi antara horsepower dengan price dimana dengan bertambhanya horsepower maka price mobil akan semakin naik"
   ]
  },
  {
   "cell_type": "markdown",
   "metadata": {},
   "source": [
    "## Part 2"
   ]
  },
  {
   "cell_type": "markdown",
   "metadata": {},
   "source": [
    "### 1. Car brand with highest price"
   ]
  },
  {
   "cell_type": "code",
   "execution_count": null,
   "metadata": {},
   "outputs": [],
   "source": [
    "data2.nlargest(1, 'price')"
   ]
  },
  {
   "cell_type": "markdown",
   "metadata": {},
   "source": [
    "Car brand with the highst price is Mercedes-Benz with the price 45400. the details is above"
   ]
  },
  {
   "cell_type": "markdown",
   "metadata": {},
   "source": [
    "### 2. Maximum horsepower for car with 6 cylinder engine"
   ]
  },
  {
   "cell_type": "code",
   "execution_count": null,
   "metadata": {},
   "outputs": [],
   "source": [
    "data2[data2['cylinder']=='six'].nlargest(5, 'horsepower')"
   ]
  },
  {
   "cell_type": "markdown",
   "metadata": {},
   "source": [
    "the maximum of horsepower with 6 cylinder is 207 with porsche as the makers"
   ]
  },
  {
   "cell_type": "markdown",
   "metadata": {},
   "source": [
    "### 3. Average peak-rpm for ‘turbo’ style aspiration car"
   ]
  },
  {
   "cell_type": "code",
   "execution_count": null,
   "metadata": {},
   "outputs": [],
   "source": [
    "data2[data2['aspiration']=='turbo']['peak-rpm'].mean()"
   ]
  },
  {
   "cell_type": "code",
   "execution_count": null,
   "metadata": {},
   "outputs": [],
   "source": [
    "data2.groupby('aspiration')['peak-rpm'].mean()"
   ]
  },
  {
   "cell_type": "markdown",
   "metadata": {},
   "source": [
    "jadi untuk Average peak-rpm for ‘turbo’ style aspiration car adalah 4907"
   ]
  },
  {
   "cell_type": "markdown",
   "metadata": {},
   "source": [
    "### 4. Average price based on body-style"
   ]
  },
  {
   "cell_type": "code",
   "execution_count": null,
   "metadata": {},
   "outputs": [],
   "source": [
    "data2.groupby('body-style').price.mean()"
   ]
  },
  {
   "cell_type": "markdown",
   "metadata": {},
   "source": [
    "rata rata garga berdasarkan style dari body mobil dapat dilihat diatas"
   ]
  },
  {
   "cell_type": "markdown",
   "metadata": {},
   "source": [
    "### 5. Average price based on body-style only for Honda car (make=Honda)"
   ]
  },
  {
   "cell_type": "code",
   "execution_count": null,
   "metadata": {},
   "outputs": [],
   "source": [
    "data2_honda = data2[data2['make']=='honda']"
   ]
  },
  {
   "cell_type": "code",
   "execution_count": null,
   "metadata": {},
   "outputs": [],
   "source": [
    "data2_honda.groupby('body-style').price.mean()"
   ]
  },
  {
   "cell_type": "markdown",
   "metadata": {},
   "source": [
    "rata rata khusus untuk mobil honda berdasarkan style dari mobilnya bisa dilihat diatas"
   ]
  },
  {
   "cell_type": "markdown",
   "metadata": {},
   "source": [
    "# Clustering"
   ]
  },
  {
   "cell_type": "markdown",
   "metadata": {},
   "source": [
    "# Clustering"
   ]
  },
  {
   "cell_type": "markdown",
   "metadata": {},
   "source": [
    "# Clustering"
   ]
  },
  {
   "cell_type": "markdown",
   "metadata": {},
   "source": [
    "# Clustering"
   ]
  },
  {
   "cell_type": "markdown",
   "metadata": {},
   "source": [
    "# Clustering\n",
    "Setelah melakukan EDA, maka akan dilakukan clustering untuk menjawab beberapa pertanyaan berikut ini:\n",
    "1. Berapa cluster yang dibuat ? feature apa saja yang digunakan ?\n",
    "2. Manakah algoritma clustering yang anda ambil ? kenapa ?\n",
    "3. Apakah setiap cluster memiliki ciri - ciri yang berbeda ? apa saja ciri-ciri cluster tersebut ?"
   ]
  },
  {
   "cell_type": "code",
   "execution_count": 39,
   "metadata": {},
   "outputs": [
    {
     "data": {
      "text/html": [
       "<div>\n",
       "<style scoped>\n",
       "    .dataframe tbody tr th:only-of-type {\n",
       "        vertical-align: middle;\n",
       "    }\n",
       "\n",
       "    .dataframe tbody tr th {\n",
       "        vertical-align: top;\n",
       "    }\n",
       "\n",
       "    .dataframe thead th {\n",
       "        text-align: right;\n",
       "    }\n",
       "</style>\n",
       "<table border=\"1\" class=\"dataframe\">\n",
       "  <thead>\n",
       "    <tr style=\"text-align: right;\">\n",
       "      <th></th>\n",
       "      <th>ID</th>\n",
       "      <th>make</th>\n",
       "      <th>fuel-type</th>\n",
       "      <th>aspiration</th>\n",
       "      <th>num-of-doors</th>\n",
       "      <th>body-style</th>\n",
       "      <th>drive-wheel</th>\n",
       "      <th>engine-loc</th>\n",
       "      <th>wheel-base</th>\n",
       "      <th>length</th>\n",
       "      <th>...</th>\n",
       "      <th>fuel-system</th>\n",
       "      <th>bore</th>\n",
       "      <th>stroke</th>\n",
       "      <th>compression-ratio</th>\n",
       "      <th>horsepower</th>\n",
       "      <th>peak-rpm</th>\n",
       "      <th>city-mpg</th>\n",
       "      <th>highway-mpg</th>\n",
       "      <th>price</th>\n",
       "      <th>symboling</th>\n",
       "    </tr>\n",
       "  </thead>\n",
       "  <tbody>\n",
       "    <tr>\n",
       "      <th>0</th>\n",
       "      <td>1</td>\n",
       "      <td>alfa-romero</td>\n",
       "      <td>gas</td>\n",
       "      <td>std</td>\n",
       "      <td>two</td>\n",
       "      <td>convertible</td>\n",
       "      <td>rwd</td>\n",
       "      <td>front</td>\n",
       "      <td>88.6</td>\n",
       "      <td>168.8</td>\n",
       "      <td>...</td>\n",
       "      <td>mpfi</td>\n",
       "      <td>3.47</td>\n",
       "      <td>2.68</td>\n",
       "      <td>9.0</td>\n",
       "      <td>111.0</td>\n",
       "      <td>5000.0</td>\n",
       "      <td>21</td>\n",
       "      <td>27</td>\n",
       "      <td>13495.0</td>\n",
       "      <td>3</td>\n",
       "    </tr>\n",
       "    <tr>\n",
       "      <th>1</th>\n",
       "      <td>2</td>\n",
       "      <td>alfa-romero</td>\n",
       "      <td>gas</td>\n",
       "      <td>std</td>\n",
       "      <td>two</td>\n",
       "      <td>convertible</td>\n",
       "      <td>rwd</td>\n",
       "      <td>front</td>\n",
       "      <td>88.6</td>\n",
       "      <td>168.8</td>\n",
       "      <td>...</td>\n",
       "      <td>mpfi</td>\n",
       "      <td>3.47</td>\n",
       "      <td>2.68</td>\n",
       "      <td>9.0</td>\n",
       "      <td>111.0</td>\n",
       "      <td>5000.0</td>\n",
       "      <td>21</td>\n",
       "      <td>27</td>\n",
       "      <td>16500.0</td>\n",
       "      <td>3</td>\n",
       "    </tr>\n",
       "    <tr>\n",
       "      <th>2</th>\n",
       "      <td>3</td>\n",
       "      <td>alfa-romero</td>\n",
       "      <td>gas</td>\n",
       "      <td>std</td>\n",
       "      <td>two</td>\n",
       "      <td>hatchback</td>\n",
       "      <td>rwd</td>\n",
       "      <td>front</td>\n",
       "      <td>94.5</td>\n",
       "      <td>171.2</td>\n",
       "      <td>...</td>\n",
       "      <td>mpfi</td>\n",
       "      <td>2.68</td>\n",
       "      <td>3.47</td>\n",
       "      <td>9.0</td>\n",
       "      <td>154.0</td>\n",
       "      <td>5000.0</td>\n",
       "      <td>19</td>\n",
       "      <td>26</td>\n",
       "      <td>16500.0</td>\n",
       "      <td>1</td>\n",
       "    </tr>\n",
       "    <tr>\n",
       "      <th>3</th>\n",
       "      <td>4</td>\n",
       "      <td>audi</td>\n",
       "      <td>gas</td>\n",
       "      <td>std</td>\n",
       "      <td>four</td>\n",
       "      <td>sedan</td>\n",
       "      <td>fwd</td>\n",
       "      <td>front</td>\n",
       "      <td>99.8</td>\n",
       "      <td>176.6</td>\n",
       "      <td>...</td>\n",
       "      <td>mpfi</td>\n",
       "      <td>3.19</td>\n",
       "      <td>3.40</td>\n",
       "      <td>10.0</td>\n",
       "      <td>102.0</td>\n",
       "      <td>5500.0</td>\n",
       "      <td>24</td>\n",
       "      <td>30</td>\n",
       "      <td>13950.0</td>\n",
       "      <td>2</td>\n",
       "    </tr>\n",
       "    <tr>\n",
       "      <th>4</th>\n",
       "      <td>5</td>\n",
       "      <td>audi</td>\n",
       "      <td>gas</td>\n",
       "      <td>std</td>\n",
       "      <td>four</td>\n",
       "      <td>sedan</td>\n",
       "      <td>4wd</td>\n",
       "      <td>front</td>\n",
       "      <td>99.4</td>\n",
       "      <td>176.6</td>\n",
       "      <td>...</td>\n",
       "      <td>mpfi</td>\n",
       "      <td>3.19</td>\n",
       "      <td>3.40</td>\n",
       "      <td>8.0</td>\n",
       "      <td>115.0</td>\n",
       "      <td>5500.0</td>\n",
       "      <td>18</td>\n",
       "      <td>22</td>\n",
       "      <td>17450.0</td>\n",
       "      <td>2</td>\n",
       "    </tr>\n",
       "  </tbody>\n",
       "</table>\n",
       "<p>5 rows × 26 columns</p>\n",
       "</div>"
      ],
      "text/plain": [
       "   ID         make fuel-type aspiration num-of-doors   body-style drive-wheel  \\\n",
       "0   1  alfa-romero       gas        std          two  convertible         rwd   \n",
       "1   2  alfa-romero       gas        std          two  convertible         rwd   \n",
       "2   3  alfa-romero       gas        std          two    hatchback         rwd   \n",
       "3   4         audi       gas        std         four        sedan         fwd   \n",
       "4   5         audi       gas        std         four        sedan         4wd   \n",
       "\n",
       "  engine-loc  wheel-base  length    ...      fuel-system  bore  stroke  \\\n",
       "0      front        88.6   168.8    ...             mpfi  3.47    2.68   \n",
       "1      front        88.6   168.8    ...             mpfi  3.47    2.68   \n",
       "2      front        94.5   171.2    ...             mpfi  2.68    3.47   \n",
       "3      front        99.8   176.6    ...             mpfi  3.19    3.40   \n",
       "4      front        99.4   176.6    ...             mpfi  3.19    3.40   \n",
       "\n",
       "  compression-ratio horsepower  peak-rpm city-mpg  highway-mpg    price  \\\n",
       "0               9.0      111.0    5000.0       21           27  13495.0   \n",
       "1               9.0      111.0    5000.0       21           27  16500.0   \n",
       "2               9.0      154.0    5000.0       19           26  16500.0   \n",
       "3              10.0      102.0    5500.0       24           30  13950.0   \n",
       "4               8.0      115.0    5500.0       18           22  17450.0   \n",
       "\n",
       "   symboling  \n",
       "0          3  \n",
       "1          3  \n",
       "2          1  \n",
       "3          2  \n",
       "4          2  \n",
       "\n",
       "[5 rows x 26 columns]"
      ]
     },
     "execution_count": 39,
     "metadata": {},
     "output_type": "execute_result"
    }
   ],
   "source": [
    "data.head()"
   ]
  },
  {
   "cell_type": "code",
   "execution_count": 40,
   "metadata": {},
   "outputs": [
    {
     "data": {
      "text/html": [
       "<div>\n",
       "<style scoped>\n",
       "    .dataframe tbody tr th:only-of-type {\n",
       "        vertical-align: middle;\n",
       "    }\n",
       "\n",
       "    .dataframe tbody tr th {\n",
       "        vertical-align: top;\n",
       "    }\n",
       "\n",
       "    .dataframe thead th {\n",
       "        text-align: right;\n",
       "    }\n",
       "</style>\n",
       "<table border=\"1\" class=\"dataframe\">\n",
       "  <thead>\n",
       "    <tr style=\"text-align: right;\">\n",
       "      <th></th>\n",
       "      <th>ID</th>\n",
       "      <th>fuel-type</th>\n",
       "      <th>aspiration</th>\n",
       "      <th>wheel-base</th>\n",
       "      <th>length</th>\n",
       "      <th>width</th>\n",
       "      <th>height</th>\n",
       "      <th>curb-weight</th>\n",
       "      <th>engine-type</th>\n",
       "      <th>cylinder</th>\n",
       "      <th>engine-size</th>\n",
       "      <th>horsepower</th>\n",
       "      <th>peak-rpm</th>\n",
       "      <th>city-mpg</th>\n",
       "      <th>highway-mpg</th>\n",
       "      <th>price</th>\n",
       "    </tr>\n",
       "  </thead>\n",
       "  <tbody>\n",
       "    <tr>\n",
       "      <th>0</th>\n",
       "      <td>1</td>\n",
       "      <td>gas</td>\n",
       "      <td>std</td>\n",
       "      <td>88.6</td>\n",
       "      <td>168.8</td>\n",
       "      <td>64.1</td>\n",
       "      <td>48.8</td>\n",
       "      <td>2548</td>\n",
       "      <td>dohc</td>\n",
       "      <td>four</td>\n",
       "      <td>130</td>\n",
       "      <td>111.0</td>\n",
       "      <td>5000.0</td>\n",
       "      <td>21</td>\n",
       "      <td>27</td>\n",
       "      <td>13495.0</td>\n",
       "    </tr>\n",
       "    <tr>\n",
       "      <th>1</th>\n",
       "      <td>2</td>\n",
       "      <td>gas</td>\n",
       "      <td>std</td>\n",
       "      <td>88.6</td>\n",
       "      <td>168.8</td>\n",
       "      <td>64.1</td>\n",
       "      <td>48.8</td>\n",
       "      <td>2548</td>\n",
       "      <td>dohc</td>\n",
       "      <td>four</td>\n",
       "      <td>130</td>\n",
       "      <td>111.0</td>\n",
       "      <td>5000.0</td>\n",
       "      <td>21</td>\n",
       "      <td>27</td>\n",
       "      <td>16500.0</td>\n",
       "    </tr>\n",
       "    <tr>\n",
       "      <th>2</th>\n",
       "      <td>3</td>\n",
       "      <td>gas</td>\n",
       "      <td>std</td>\n",
       "      <td>94.5</td>\n",
       "      <td>171.2</td>\n",
       "      <td>65.5</td>\n",
       "      <td>52.4</td>\n",
       "      <td>2823</td>\n",
       "      <td>ohcv</td>\n",
       "      <td>six</td>\n",
       "      <td>152</td>\n",
       "      <td>154.0</td>\n",
       "      <td>5000.0</td>\n",
       "      <td>19</td>\n",
       "      <td>26</td>\n",
       "      <td>16500.0</td>\n",
       "    </tr>\n",
       "    <tr>\n",
       "      <th>3</th>\n",
       "      <td>4</td>\n",
       "      <td>gas</td>\n",
       "      <td>std</td>\n",
       "      <td>99.8</td>\n",
       "      <td>176.6</td>\n",
       "      <td>66.2</td>\n",
       "      <td>54.3</td>\n",
       "      <td>2337</td>\n",
       "      <td>ohc</td>\n",
       "      <td>four</td>\n",
       "      <td>109</td>\n",
       "      <td>102.0</td>\n",
       "      <td>5500.0</td>\n",
       "      <td>24</td>\n",
       "      <td>30</td>\n",
       "      <td>13950.0</td>\n",
       "    </tr>\n",
       "    <tr>\n",
       "      <th>4</th>\n",
       "      <td>5</td>\n",
       "      <td>gas</td>\n",
       "      <td>std</td>\n",
       "      <td>99.4</td>\n",
       "      <td>176.6</td>\n",
       "      <td>66.4</td>\n",
       "      <td>54.3</td>\n",
       "      <td>2824</td>\n",
       "      <td>ohc</td>\n",
       "      <td>five</td>\n",
       "      <td>136</td>\n",
       "      <td>115.0</td>\n",
       "      <td>5500.0</td>\n",
       "      <td>18</td>\n",
       "      <td>22</td>\n",
       "      <td>17450.0</td>\n",
       "    </tr>\n",
       "  </tbody>\n",
       "</table>\n",
       "</div>"
      ],
      "text/plain": [
       "   ID fuel-type aspiration  wheel-base  length  width  height  curb-weight  \\\n",
       "0   1       gas        std        88.6   168.8   64.1    48.8         2548   \n",
       "1   2       gas        std        88.6   168.8   64.1    48.8         2548   \n",
       "2   3       gas        std        94.5   171.2   65.5    52.4         2823   \n",
       "3   4       gas        std        99.8   176.6   66.2    54.3         2337   \n",
       "4   5       gas        std        99.4   176.6   66.4    54.3         2824   \n",
       "\n",
       "  engine-type cylinder  engine-size  horsepower  peak-rpm  city-mpg  \\\n",
       "0        dohc     four          130       111.0    5000.0        21   \n",
       "1        dohc     four          130       111.0    5000.0        21   \n",
       "2        ohcv      six          152       154.0    5000.0        19   \n",
       "3         ohc     four          109       102.0    5500.0        24   \n",
       "4         ohc     five          136       115.0    5500.0        18   \n",
       "\n",
       "   highway-mpg    price  \n",
       "0           27  13495.0  \n",
       "1           27  16500.0  \n",
       "2           26  16500.0  \n",
       "3           30  13950.0  \n",
       "4           22  17450.0  "
      ]
     },
     "execution_count": 40,
     "metadata": {},
     "output_type": "execute_result"
    }
   ],
   "source": [
    "#Beberapa kolom yang akan saya drop karena kemungkinan besar tidak akan saya gunakan\n",
    "dropped = ['make', 'num-of-doors', 'body-style', 'drive-wheel', 'engine-loc', 'fuel-system', 'bore', 'stroke', 'compression-ratio', 'symboling']\n",
    "data.drop(columns=dropped, inplace=True)\n",
    "data.head()"
   ]
  },
  {
   "cell_type": "code",
   "execution_count": 43,
   "metadata": {},
   "outputs": [],
   "source": [
    "data.drop(columns=['ID'], inplace=True)"
   ]
  },
  {
   "cell_type": "code",
   "execution_count": 44,
   "metadata": {},
   "outputs": [
    {
     "data": {
      "text/html": [
       "<div>\n",
       "<style scoped>\n",
       "    .dataframe tbody tr th:only-of-type {\n",
       "        vertical-align: middle;\n",
       "    }\n",
       "\n",
       "    .dataframe tbody tr th {\n",
       "        vertical-align: top;\n",
       "    }\n",
       "\n",
       "    .dataframe thead th {\n",
       "        text-align: right;\n",
       "    }\n",
       "</style>\n",
       "<table border=\"1\" class=\"dataframe\">\n",
       "  <thead>\n",
       "    <tr style=\"text-align: right;\">\n",
       "      <th></th>\n",
       "      <th>fuel-type</th>\n",
       "      <th>aspiration</th>\n",
       "      <th>wheel-base</th>\n",
       "      <th>length</th>\n",
       "      <th>width</th>\n",
       "      <th>height</th>\n",
       "      <th>curb-weight</th>\n",
       "      <th>engine-type</th>\n",
       "      <th>cylinder</th>\n",
       "      <th>engine-size</th>\n",
       "      <th>horsepower</th>\n",
       "      <th>peak-rpm</th>\n",
       "      <th>city-mpg</th>\n",
       "      <th>highway-mpg</th>\n",
       "      <th>price</th>\n",
       "    </tr>\n",
       "  </thead>\n",
       "  <tbody>\n",
       "    <tr>\n",
       "      <th>0</th>\n",
       "      <td>gas</td>\n",
       "      <td>std</td>\n",
       "      <td>88.6</td>\n",
       "      <td>168.8</td>\n",
       "      <td>64.1</td>\n",
       "      <td>48.8</td>\n",
       "      <td>2548</td>\n",
       "      <td>dohc</td>\n",
       "      <td>four</td>\n",
       "      <td>130</td>\n",
       "      <td>111.0</td>\n",
       "      <td>5000.0</td>\n",
       "      <td>21</td>\n",
       "      <td>27</td>\n",
       "      <td>13495.0</td>\n",
       "    </tr>\n",
       "    <tr>\n",
       "      <th>1</th>\n",
       "      <td>gas</td>\n",
       "      <td>std</td>\n",
       "      <td>88.6</td>\n",
       "      <td>168.8</td>\n",
       "      <td>64.1</td>\n",
       "      <td>48.8</td>\n",
       "      <td>2548</td>\n",
       "      <td>dohc</td>\n",
       "      <td>four</td>\n",
       "      <td>130</td>\n",
       "      <td>111.0</td>\n",
       "      <td>5000.0</td>\n",
       "      <td>21</td>\n",
       "      <td>27</td>\n",
       "      <td>16500.0</td>\n",
       "    </tr>\n",
       "    <tr>\n",
       "      <th>2</th>\n",
       "      <td>gas</td>\n",
       "      <td>std</td>\n",
       "      <td>94.5</td>\n",
       "      <td>171.2</td>\n",
       "      <td>65.5</td>\n",
       "      <td>52.4</td>\n",
       "      <td>2823</td>\n",
       "      <td>ohcv</td>\n",
       "      <td>six</td>\n",
       "      <td>152</td>\n",
       "      <td>154.0</td>\n",
       "      <td>5000.0</td>\n",
       "      <td>19</td>\n",
       "      <td>26</td>\n",
       "      <td>16500.0</td>\n",
       "    </tr>\n",
       "    <tr>\n",
       "      <th>3</th>\n",
       "      <td>gas</td>\n",
       "      <td>std</td>\n",
       "      <td>99.8</td>\n",
       "      <td>176.6</td>\n",
       "      <td>66.2</td>\n",
       "      <td>54.3</td>\n",
       "      <td>2337</td>\n",
       "      <td>ohc</td>\n",
       "      <td>four</td>\n",
       "      <td>109</td>\n",
       "      <td>102.0</td>\n",
       "      <td>5500.0</td>\n",
       "      <td>24</td>\n",
       "      <td>30</td>\n",
       "      <td>13950.0</td>\n",
       "    </tr>\n",
       "    <tr>\n",
       "      <th>4</th>\n",
       "      <td>gas</td>\n",
       "      <td>std</td>\n",
       "      <td>99.4</td>\n",
       "      <td>176.6</td>\n",
       "      <td>66.4</td>\n",
       "      <td>54.3</td>\n",
       "      <td>2824</td>\n",
       "      <td>ohc</td>\n",
       "      <td>five</td>\n",
       "      <td>136</td>\n",
       "      <td>115.0</td>\n",
       "      <td>5500.0</td>\n",
       "      <td>18</td>\n",
       "      <td>22</td>\n",
       "      <td>17450.0</td>\n",
       "    </tr>\n",
       "  </tbody>\n",
       "</table>\n",
       "</div>"
      ],
      "text/plain": [
       "  fuel-type aspiration  wheel-base  length  width  height  curb-weight  \\\n",
       "0       gas        std        88.6   168.8   64.1    48.8         2548   \n",
       "1       gas        std        88.6   168.8   64.1    48.8         2548   \n",
       "2       gas        std        94.5   171.2   65.5    52.4         2823   \n",
       "3       gas        std        99.8   176.6   66.2    54.3         2337   \n",
       "4       gas        std        99.4   176.6   66.4    54.3         2824   \n",
       "\n",
       "  engine-type cylinder  engine-size  horsepower  peak-rpm  city-mpg  \\\n",
       "0        dohc     four          130       111.0    5000.0        21   \n",
       "1        dohc     four          130       111.0    5000.0        21   \n",
       "2        ohcv      six          152       154.0    5000.0        19   \n",
       "3         ohc     four          109       102.0    5500.0        24   \n",
       "4         ohc     five          136       115.0    5500.0        18   \n",
       "\n",
       "   highway-mpg    price  \n",
       "0           27  13495.0  \n",
       "1           27  16500.0  \n",
       "2           26  16500.0  \n",
       "3           30  13950.0  \n",
       "4           22  17450.0  "
      ]
     },
     "execution_count": 44,
     "metadata": {},
     "output_type": "execute_result"
    }
   ],
   "source": [
    "data.head()"
   ]
  },
  {
   "cell_type": "markdown",
   "metadata": {},
   "source": [
    "### Mencari hubungan antar features"
   ]
  },
  {
   "cell_type": "code",
   "execution_count": 47,
   "metadata": {},
   "outputs": [
    {
     "data": {
      "text/html": [
       "<style  type=\"text/css\" >\n",
       "    #T_5da2e488_d07b_11e9_81e5_7440bb9efc3erow0_col0 {\n",
       "            background-color:  #023858;\n",
       "        }    #T_5da2e488_d07b_11e9_81e5_7440bb9efc3erow0_col1 {\n",
       "            background-color:  #034b76;\n",
       "        }    #T_5da2e488_d07b_11e9_81e5_7440bb9efc3erow0_col2 {\n",
       "            background-color:  #045687;\n",
       "        }    #T_5da2e488_d07b_11e9_81e5_7440bb9efc3erow0_col3 {\n",
       "            background-color:  #1e80b8;\n",
       "        }    #T_5da2e488_d07b_11e9_81e5_7440bb9efc3erow0_col4 {\n",
       "            background-color:  #04598c;\n",
       "        }    #T_5da2e488_d07b_11e9_81e5_7440bb9efc3erow0_col5 {\n",
       "            background-color:  #0771b1;\n",
       "        }    #T_5da2e488_d07b_11e9_81e5_7440bb9efc3erow0_col6 {\n",
       "            background-color:  #2a88bc;\n",
       "        }    #T_5da2e488_d07b_11e9_81e5_7440bb9efc3erow0_col7 {\n",
       "            background-color:  #fff7fb;\n",
       "        }    #T_5da2e488_d07b_11e9_81e5_7440bb9efc3erow0_col8 {\n",
       "            background-color:  #dddbec;\n",
       "        }    #T_5da2e488_d07b_11e9_81e5_7440bb9efc3erow0_col9 {\n",
       "            background-color:  #e8e4f0;\n",
       "        }    #T_5da2e488_d07b_11e9_81e5_7440bb9efc3erow0_col10 {\n",
       "            background-color:  #056fae;\n",
       "        }    #T_5da2e488_d07b_11e9_81e5_7440bb9efc3erow1_col0 {\n",
       "            background-color:  #034d79;\n",
       "        }    #T_5da2e488_d07b_11e9_81e5_7440bb9efc3erow1_col1 {\n",
       "            background-color:  #023858;\n",
       "        }    #T_5da2e488_d07b_11e9_81e5_7440bb9efc3erow1_col2 {\n",
       "            background-color:  #034e7b;\n",
       "        }    #T_5da2e488_d07b_11e9_81e5_7440bb9efc3erow1_col3 {\n",
       "            background-color:  #3f93c2;\n",
       "        }    #T_5da2e488_d07b_11e9_81e5_7440bb9efc3erow1_col4 {\n",
       "            background-color:  #034973;\n",
       "        }    #T_5da2e488_d07b_11e9_81e5_7440bb9efc3erow1_col5 {\n",
       "            background-color:  #05659f;\n",
       "        }    #T_5da2e488_d07b_11e9_81e5_7440bb9efc3erow1_col6 {\n",
       "            background-color:  #056caa;\n",
       "        }    #T_5da2e488_d07b_11e9_81e5_7440bb9efc3erow1_col7 {\n",
       "            background-color:  #f7f0f7;\n",
       "        }    #T_5da2e488_d07b_11e9_81e5_7440bb9efc3erow1_col8 {\n",
       "            background-color:  #f2ecf5;\n",
       "        }    #T_5da2e488_d07b_11e9_81e5_7440bb9efc3erow1_col9 {\n",
       "            background-color:  #f7f0f7;\n",
       "        }    #T_5da2e488_d07b_11e9_81e5_7440bb9efc3erow1_col10 {\n",
       "            background-color:  #04649d;\n",
       "        }    #T_5da2e488_d07b_11e9_81e5_7440bb9efc3erow2_col0 {\n",
       "            background-color:  #04588a;\n",
       "        }    #T_5da2e488_d07b_11e9_81e5_7440bb9efc3erow2_col1 {\n",
       "            background-color:  #034e7b;\n",
       "        }    #T_5da2e488_d07b_11e9_81e5_7440bb9efc3erow2_col2 {\n",
       "            background-color:  #023858;\n",
       "        }    #T_5da2e488_d07b_11e9_81e5_7440bb9efc3erow2_col3 {\n",
       "            background-color:  #81aed2;\n",
       "        }    #T_5da2e488_d07b_11e9_81e5_7440bb9efc3erow2_col4 {\n",
       "            background-color:  #034c78;\n",
       "        }    #T_5da2e488_d07b_11e9_81e5_7440bb9efc3erow2_col5 {\n",
       "            background-color:  #046097;\n",
       "        }    #T_5da2e488_d07b_11e9_81e5_7440bb9efc3erow2_col6 {\n",
       "            background-color:  #0569a5;\n",
       "        }    #T_5da2e488_d07b_11e9_81e5_7440bb9efc3erow2_col7 {\n",
       "            background-color:  #f2ecf5;\n",
       "        }    #T_5da2e488_d07b_11e9_81e5_7440bb9efc3erow2_col8 {\n",
       "            background-color:  #f0eaf4;\n",
       "        }    #T_5da2e488_d07b_11e9_81e5_7440bb9efc3erow2_col9 {\n",
       "            background-color:  #f5eef6;\n",
       "        }    #T_5da2e488_d07b_11e9_81e5_7440bb9efc3erow2_col10 {\n",
       "            background-color:  #045e93;\n",
       "        }    #T_5da2e488_d07b_11e9_81e5_7440bb9efc3erow3_col0 {\n",
       "            background-color:  #0c74b2;\n",
       "        }    #T_5da2e488_d07b_11e9_81e5_7440bb9efc3erow3_col1 {\n",
       "            background-color:  #197db7;\n",
       "        }    #T_5da2e488_d07b_11e9_81e5_7440bb9efc3erow3_col2 {\n",
       "            background-color:  #4a98c5;\n",
       "        }    #T_5da2e488_d07b_11e9_81e5_7440bb9efc3erow3_col3 {\n",
       "            background-color:  #023858;\n",
       "        }    #T_5da2e488_d07b_11e9_81e5_7440bb9efc3erow3_col4 {\n",
       "            background-color:  #3d93c2;\n",
       "        }    #T_5da2e488_d07b_11e9_81e5_7440bb9efc3erow3_col5 {\n",
       "            background-color:  #89b1d4;\n",
       "        }    #T_5da2e488_d07b_11e9_81e5_7440bb9efc3erow3_col6 {\n",
       "            background-color:  #9ab8d8;\n",
       "        }    #T_5da2e488_d07b_11e9_81e5_7440bb9efc3erow3_col7 {\n",
       "            background-color:  #faf2f8;\n",
       "        }    #T_5da2e488_d07b_11e9_81e5_7440bb9efc3erow3_col8 {\n",
       "            background-color:  #93b5d6;\n",
       "        }    #T_5da2e488_d07b_11e9_81e5_7440bb9efc3erow3_col9 {\n",
       "            background-color:  #a1bbda;\n",
       "        }    #T_5da2e488_d07b_11e9_81e5_7440bb9efc3erow3_col10 {\n",
       "            background-color:  #78abd0;\n",
       "        }    #T_5da2e488_d07b_11e9_81e5_7440bb9efc3erow4_col0 {\n",
       "            background-color:  #045d92;\n",
       "        }    #T_5da2e488_d07b_11e9_81e5_7440bb9efc3erow4_col1 {\n",
       "            background-color:  #034a74;\n",
       "        }    #T_5da2e488_d07b_11e9_81e5_7440bb9efc3erow4_col2 {\n",
       "            background-color:  #034d79;\n",
       "        }    #T_5da2e488_d07b_11e9_81e5_7440bb9efc3erow4_col3 {\n",
       "            background-color:  #81aed2;\n",
       "        }    #T_5da2e488_d07b_11e9_81e5_7440bb9efc3erow4_col4 {\n",
       "            background-color:  #023858;\n",
       "        }    #T_5da2e488_d07b_11e9_81e5_7440bb9efc3erow4_col5 {\n",
       "            background-color:  #03517e;\n",
       "        }    #T_5da2e488_d07b_11e9_81e5_7440bb9efc3erow4_col6 {\n",
       "            background-color:  #045b8e;\n",
       "        }    #T_5da2e488_d07b_11e9_81e5_7440bb9efc3erow4_col7 {\n",
       "            background-color:  #f6eff7;\n",
       "        }    #T_5da2e488_d07b_11e9_81e5_7440bb9efc3erow4_col8 {\n",
       "            background-color:  #faf2f8;\n",
       "        }    #T_5da2e488_d07b_11e9_81e5_7440bb9efc3erow4_col9 {\n",
       "            background-color:  #fef6fb;\n",
       "        }    #T_5da2e488_d07b_11e9_81e5_7440bb9efc3erow4_col10 {\n",
       "            background-color:  #045280;\n",
       "        }    #T_5da2e488_d07b_11e9_81e5_7440bb9efc3erow5_col0 {\n",
       "            background-color:  #1077b4;\n",
       "        }    #T_5da2e488_d07b_11e9_81e5_7440bb9efc3erow5_col1 {\n",
       "            background-color:  #04649e;\n",
       "        }    #T_5da2e488_d07b_11e9_81e5_7440bb9efc3erow5_col2 {\n",
       "            background-color:  #046097;\n",
       "        }    #T_5da2e488_d07b_11e9_81e5_7440bb9efc3erow5_col3 {\n",
       "            background-color:  #c4cbe3;\n",
       "        }    #T_5da2e488_d07b_11e9_81e5_7440bb9efc3erow5_col4 {\n",
       "            background-color:  #034e7b;\n",
       "        }    #T_5da2e488_d07b_11e9_81e5_7440bb9efc3erow5_col5 {\n",
       "            background-color:  #023858;\n",
       "        }    #T_5da2e488_d07b_11e9_81e5_7440bb9efc3erow5_col6 {\n",
       "            background-color:  #045280;\n",
       "        }    #T_5da2e488_d07b_11e9_81e5_7440bb9efc3erow5_col7 {\n",
       "            background-color:  #f4edf6;\n",
       "        }    #T_5da2e488_d07b_11e9_81e5_7440bb9efc3erow5_col8 {\n",
       "            background-color:  #f1ebf5;\n",
       "        }    #T_5da2e488_d07b_11e9_81e5_7440bb9efc3erow5_col9 {\n",
       "            background-color:  #f5eef6;\n",
       "        }    #T_5da2e488_d07b_11e9_81e5_7440bb9efc3erow5_col10 {\n",
       "            background-color:  #034c78;\n",
       "        }    #T_5da2e488_d07b_11e9_81e5_7440bb9efc3erow6_col0 {\n",
       "            background-color:  #4496c3;\n",
       "        }    #T_5da2e488_d07b_11e9_81e5_7440bb9efc3erow6_col1 {\n",
       "            background-color:  #056fae;\n",
       "        }    #T_5da2e488_d07b_11e9_81e5_7440bb9efc3erow6_col2 {\n",
       "            background-color:  #056caa;\n",
       "        }    #T_5da2e488_d07b_11e9_81e5_7440bb9efc3erow6_col3 {\n",
       "            background-color:  #e2dfee;\n",
       "        }    #T_5da2e488_d07b_11e9_81e5_7440bb9efc3erow6_col4 {\n",
       "            background-color:  #045b8f;\n",
       "        }    #T_5da2e488_d07b_11e9_81e5_7440bb9efc3erow6_col5 {\n",
       "            background-color:  #045483;\n",
       "        }    #T_5da2e488_d07b_11e9_81e5_7440bb9efc3erow6_col6 {\n",
       "            background-color:  #023858;\n",
       "        }    #T_5da2e488_d07b_11e9_81e5_7440bb9efc3erow6_col7 {\n",
       "            background-color:  #b1c2de;\n",
       "        }    #T_5da2e488_d07b_11e9_81e5_7440bb9efc3erow6_col8 {\n",
       "            background-color:  #fff7fb;\n",
       "        }    #T_5da2e488_d07b_11e9_81e5_7440bb9efc3erow6_col9 {\n",
       "            background-color:  #fff7fb;\n",
       "        }    #T_5da2e488_d07b_11e9_81e5_7440bb9efc3erow6_col10 {\n",
       "            background-color:  #045687;\n",
       "        }    #T_5da2e488_d07b_11e9_81e5_7440bb9efc3erow7_col0 {\n",
       "            background-color:  #ede8f3;\n",
       "        }    #T_5da2e488_d07b_11e9_81e5_7440bb9efc3erow7_col1 {\n",
       "            background-color:  #d1d2e6;\n",
       "        }    #T_5da2e488_d07b_11e9_81e5_7440bb9efc3erow7_col2 {\n",
       "            background-color:  #cccfe5;\n",
       "        }    #T_5da2e488_d07b_11e9_81e5_7440bb9efc3erow7_col3 {\n",
       "            background-color:  #fff7fb;\n",
       "        }    #T_5da2e488_d07b_11e9_81e5_7440bb9efc3erow7_col4 {\n",
       "            background-color:  #c4cbe3;\n",
       "        }    #T_5da2e488_d07b_11e9_81e5_7440bb9efc3erow7_col5 {\n",
       "            background-color:  #d0d1e6;\n",
       "        }    #T_5da2e488_d07b_11e9_81e5_7440bb9efc3erow7_col6 {\n",
       "            background-color:  #6fa7ce;\n",
       "        }    #T_5da2e488_d07b_11e9_81e5_7440bb9efc3erow7_col7 {\n",
       "            background-color:  #023858;\n",
       "        }    #T_5da2e488_d07b_11e9_81e5_7440bb9efc3erow7_col8 {\n",
       "            background-color:  #a1bbda;\n",
       "        }    #T_5da2e488_d07b_11e9_81e5_7440bb9efc3erow7_col9 {\n",
       "            background-color:  #97b7d7;\n",
       "        }    #T_5da2e488_d07b_11e9_81e5_7440bb9efc3erow7_col10 {\n",
       "            background-color:  #adc1dd;\n",
       "        }    #T_5da2e488_d07b_11e9_81e5_7440bb9efc3erow8_col0 {\n",
       "            background-color:  #f8f1f8;\n",
       "        }    #T_5da2e488_d07b_11e9_81e5_7440bb9efc3erow8_col1 {\n",
       "            background-color:  #fdf5fa;\n",
       "        }    #T_5da2e488_d07b_11e9_81e5_7440bb9efc3erow8_col2 {\n",
       "            background-color:  #fbf3f9;\n",
       "        }    #T_5da2e488_d07b_11e9_81e5_7440bb9efc3erow8_col3 {\n",
       "            background-color:  #dcdaeb;\n",
       "        }    #T_5da2e488_d07b_11e9_81e5_7440bb9efc3erow8_col4 {\n",
       "            background-color:  #fbf4f9;\n",
       "        }    #T_5da2e488_d07b_11e9_81e5_7440bb9efc3erow8_col5 {\n",
       "            background-color:  #fdf5fa;\n",
       "        }    #T_5da2e488_d07b_11e9_81e5_7440bb9efc3erow8_col6 {\n",
       "            background-color:  #fff7fb;\n",
       "        }    #T_5da2e488_d07b_11e9_81e5_7440bb9efc3erow8_col7 {\n",
       "            background-color:  #e0deed;\n",
       "        }    #T_5da2e488_d07b_11e9_81e5_7440bb9efc3erow8_col8 {\n",
       "            background-color:  #023858;\n",
       "        }    #T_5da2e488_d07b_11e9_81e5_7440bb9efc3erow8_col9 {\n",
       "            background-color:  #023b5d;\n",
       "        }    #T_5da2e488_d07b_11e9_81e5_7440bb9efc3erow8_col10 {\n",
       "            background-color:  #fef6fa;\n",
       "        }    #T_5da2e488_d07b_11e9_81e5_7440bb9efc3erow9_col0 {\n",
       "            background-color:  #fff7fb;\n",
       "        }    #T_5da2e488_d07b_11e9_81e5_7440bb9efc3erow9_col1 {\n",
       "            background-color:  #fff7fb;\n",
       "        }    #T_5da2e488_d07b_11e9_81e5_7440bb9efc3erow9_col2 {\n",
       "            background-color:  #fff7fb;\n",
       "        }    #T_5da2e488_d07b_11e9_81e5_7440bb9efc3erow9_col3 {\n",
       "            background-color:  #e6e2ef;\n",
       "        }    #T_5da2e488_d07b_11e9_81e5_7440bb9efc3erow9_col4 {\n",
       "            background-color:  #fff7fb;\n",
       "        }    #T_5da2e488_d07b_11e9_81e5_7440bb9efc3erow9_col5 {\n",
       "            background-color:  #fff7fb;\n",
       "        }    #T_5da2e488_d07b_11e9_81e5_7440bb9efc3erow9_col6 {\n",
       "            background-color:  #fef6fa;\n",
       "        }    #T_5da2e488_d07b_11e9_81e5_7440bb9efc3erow9_col7 {\n",
       "            background-color:  #d7d6e9;\n",
       "        }    #T_5da2e488_d07b_11e9_81e5_7440bb9efc3erow9_col8 {\n",
       "            background-color:  #023b5d;\n",
       "        }    #T_5da2e488_d07b_11e9_81e5_7440bb9efc3erow9_col9 {\n",
       "            background-color:  #023858;\n",
       "        }    #T_5da2e488_d07b_11e9_81e5_7440bb9efc3erow9_col10 {\n",
       "            background-color:  #fff7fb;\n",
       "        }    #T_5da2e488_d07b_11e9_81e5_7440bb9efc3erow10_col0 {\n",
       "            background-color:  #0c74b2;\n",
       "        }    #T_5da2e488_d07b_11e9_81e5_7440bb9efc3erow10_col1 {\n",
       "            background-color:  #04649d;\n",
       "        }    #T_5da2e488_d07b_11e9_81e5_7440bb9efc3erow10_col2 {\n",
       "            background-color:  #045e93;\n",
       "        }    #T_5da2e488_d07b_11e9_81e5_7440bb9efc3erow10_col3 {\n",
       "            background-color:  #b3c3de;\n",
       "        }    #T_5da2e488_d07b_11e9_81e5_7440bb9efc3erow10_col4 {\n",
       "            background-color:  #03517e;\n",
       "        }    #T_5da2e488_d07b_11e9_81e5_7440bb9efc3erow10_col5 {\n",
       "            background-color:  #034c78;\n",
       "        }    #T_5da2e488_d07b_11e9_81e5_7440bb9efc3erow10_col6 {\n",
       "            background-color:  #045483;\n",
       "        }    #T_5da2e488_d07b_11e9_81e5_7440bb9efc3erow10_col7 {\n",
       "            background-color:  #dedcec;\n",
       "        }    #T_5da2e488_d07b_11e9_81e5_7440bb9efc3erow10_col8 {\n",
       "            background-color:  #f4eef6;\n",
       "        }    #T_5da2e488_d07b_11e9_81e5_7440bb9efc3erow10_col9 {\n",
       "            background-color:  #f7f0f7;\n",
       "        }    #T_5da2e488_d07b_11e9_81e5_7440bb9efc3erow10_col10 {\n",
       "            background-color:  #023858;\n",
       "        }</style>  \n",
       "<table id=\"T_5da2e488_d07b_11e9_81e5_7440bb9efc3e\" > \n",
       "<thead>    <tr> \n",
       "        <th class=\"blank level0\" ></th> \n",
       "        <th class=\"col_heading level0 col0\" >wheel-base</th> \n",
       "        <th class=\"col_heading level0 col1\" >length</th> \n",
       "        <th class=\"col_heading level0 col2\" >width</th> \n",
       "        <th class=\"col_heading level0 col3\" >height</th> \n",
       "        <th class=\"col_heading level0 col4\" >curb-weight</th> \n",
       "        <th class=\"col_heading level0 col5\" >engine-size</th> \n",
       "        <th class=\"col_heading level0 col6\" >horsepower</th> \n",
       "        <th class=\"col_heading level0 col7\" >peak-rpm</th> \n",
       "        <th class=\"col_heading level0 col8\" >city-mpg</th> \n",
       "        <th class=\"col_heading level0 col9\" >highway-mpg</th> \n",
       "        <th class=\"col_heading level0 col10\" >price</th> \n",
       "    </tr></thead> \n",
       "<tbody>    <tr> \n",
       "        <th id=\"T_5da2e488_d07b_11e9_81e5_7440bb9efc3elevel0_row0\" class=\"row_heading level0 row0\" >wheel-base</th> \n",
       "        <td id=\"T_5da2e488_d07b_11e9_81e5_7440bb9efc3erow0_col0\" class=\"data row0 col0\" >1</td> \n",
       "        <td id=\"T_5da2e488_d07b_11e9_81e5_7440bb9efc3erow0_col1\" class=\"data row0 col1\" >0.875931</td> \n",
       "        <td id=\"T_5da2e488_d07b_11e9_81e5_7440bb9efc3erow0_col2\" class=\"data row0 col2\" >0.813774</td> \n",
       "        <td id=\"T_5da2e488_d07b_11e9_81e5_7440bb9efc3erow0_col3\" class=\"data row0 col3\" >0.588802</td> \n",
       "        <td id=\"T_5da2e488_d07b_11e9_81e5_7440bb9efc3erow0_col4\" class=\"data row0 col4\" >0.781483</td> \n",
       "        <td id=\"T_5da2e488_d07b_11e9_81e5_7440bb9efc3erow0_col5\" class=\"data row0 col5\" >0.570798</td> \n",
       "        <td id=\"T_5da2e488_d07b_11e9_81e5_7440bb9efc3erow0_col6\" class=\"data row0 col6\" >0.37267</td> \n",
       "        <td id=\"T_5da2e488_d07b_11e9_81e5_7440bb9efc3erow0_col7\" class=\"data row0 col7\" >-0.358787</td> \n",
       "        <td id=\"T_5da2e488_d07b_11e9_81e5_7440bb9efc3erow0_col8\" class=\"data row0 col8\" >-0.47226</td> \n",
       "        <td id=\"T_5da2e488_d07b_11e9_81e5_7440bb9efc3erow0_col9\" class=\"data row0 col9\" >-0.544711</td> \n",
       "        <td id=\"T_5da2e488_d07b_11e9_81e5_7440bb9efc3erow0_col10\" class=\"data row0 col10\" >0.583709</td> \n",
       "    </tr>    <tr> \n",
       "        <th id=\"T_5da2e488_d07b_11e9_81e5_7440bb9efc3elevel0_row1\" class=\"row_heading level0 row1\" >length</th> \n",
       "        <td id=\"T_5da2e488_d07b_11e9_81e5_7440bb9efc3erow1_col0\" class=\"data row1 col0\" >0.875931</td> \n",
       "        <td id=\"T_5da2e488_d07b_11e9_81e5_7440bb9efc3erow1_col1\" class=\"data row1 col1\" >1</td> \n",
       "        <td id=\"T_5da2e488_d07b_11e9_81e5_7440bb9efc3erow1_col2\" class=\"data row1 col2\" >0.856496</td> \n",
       "        <td id=\"T_5da2e488_d07b_11e9_81e5_7440bb9efc3erow1_col3\" class=\"data row1 col3\" >0.4875</td> \n",
       "        <td id=\"T_5da2e488_d07b_11e9_81e5_7440bb9efc3erow1_col4\" class=\"data row1 col4\" >0.881076</td> \n",
       "        <td id=\"T_5da2e488_d07b_11e9_81e5_7440bb9efc3erow1_col5\" class=\"data row1 col5\" >0.684304</td> \n",
       "        <td id=\"T_5da2e488_d07b_11e9_81e5_7440bb9efc3erow1_col6\" class=\"data row1 col6\" >0.581197</td> \n",
       "        <td id=\"T_5da2e488_d07b_11e9_81e5_7440bb9efc3erow1_col7\" class=\"data row1 col7\" >-0.281584</td> \n",
       "        <td id=\"T_5da2e488_d07b_11e9_81e5_7440bb9efc3erow1_col8\" class=\"data row1 col8\" >-0.669687</td> \n",
       "        <td id=\"T_5da2e488_d07b_11e9_81e5_7440bb9efc3erow1_col9\" class=\"data row1 col9\" >-0.702181</td> \n",
       "        <td id=\"T_5da2e488_d07b_11e9_81e5_7440bb9efc3erow1_col10\" class=\"data row1 col10\" >0.690459</td> \n",
       "    </tr>    <tr> \n",
       "        <th id=\"T_5da2e488_d07b_11e9_81e5_7440bb9efc3elevel0_row2\" class=\"row_heading level0 row2\" >width</th> \n",
       "        <td id=\"T_5da2e488_d07b_11e9_81e5_7440bb9efc3erow2_col0\" class=\"data row2 col0\" >0.813774</td> \n",
       "        <td id=\"T_5da2e488_d07b_11e9_81e5_7440bb9efc3erow2_col1\" class=\"data row2 col1\" >0.856496</td> \n",
       "        <td id=\"T_5da2e488_d07b_11e9_81e5_7440bb9efc3erow2_col2\" class=\"data row2 col2\" >1</td> \n",
       "        <td id=\"T_5da2e488_d07b_11e9_81e5_7440bb9efc3erow2_col3\" class=\"data row2 col3\" >0.301557</td> \n",
       "        <td id=\"T_5da2e488_d07b_11e9_81e5_7440bb9efc3erow2_col4\" class=\"data row2 col4\" >0.865911</td> \n",
       "        <td id=\"T_5da2e488_d07b_11e9_81e5_7440bb9efc3erow2_col5\" class=\"data row2 col5\" >0.728658</td> \n",
       "        <td id=\"T_5da2e488_d07b_11e9_81e5_7440bb9efc3erow2_col6\" class=\"data row2 col6\" >0.615502</td> \n",
       "        <td id=\"T_5da2e488_d07b_11e9_81e5_7440bb9efc3erow2_col7\" class=\"data row2 col7\" >-0.242276</td> \n",
       "        <td id=\"T_5da2e488_d07b_11e9_81e5_7440bb9efc3erow2_col8\" class=\"data row2 col8\" >-0.636083</td> \n",
       "        <td id=\"T_5da2e488_d07b_11e9_81e5_7440bb9efc3erow2_col9\" class=\"data row2 col9\" >-0.682853</td> \n",
       "        <td id=\"T_5da2e488_d07b_11e9_81e5_7440bb9efc3erow2_col10\" class=\"data row2 col10\" >0.750854</td> \n",
       "    </tr>    <tr> \n",
       "        <th id=\"T_5da2e488_d07b_11e9_81e5_7440bb9efc3elevel0_row3\" class=\"row_heading level0 row3\" >height</th> \n",
       "        <td id=\"T_5da2e488_d07b_11e9_81e5_7440bb9efc3erow3_col0\" class=\"data row3 col0\" >0.588802</td> \n",
       "        <td id=\"T_5da2e488_d07b_11e9_81e5_7440bb9efc3erow3_col1\" class=\"data row3 col1\" >0.4875</td> \n",
       "        <td id=\"T_5da2e488_d07b_11e9_81e5_7440bb9efc3erow3_col2\" class=\"data row3 col2\" >0.301557</td> \n",
       "        <td id=\"T_5da2e488_d07b_11e9_81e5_7440bb9efc3erow3_col3\" class=\"data row3 col3\" >1</td> \n",
       "        <td id=\"T_5da2e488_d07b_11e9_81e5_7440bb9efc3erow3_col4\" class=\"data row3 col4\" >0.304661</td> \n",
       "        <td id=\"T_5da2e488_d07b_11e9_81e5_7440bb9efc3erow3_col5\" class=\"data row3 col5\" >0.0705587</td> \n",
       "        <td id=\"T_5da2e488_d07b_11e9_81e5_7440bb9efc3erow3_col6\" class=\"data row3 col6\" >-0.0866715</td> \n",
       "        <td id=\"T_5da2e488_d07b_11e9_81e5_7440bb9efc3erow3_col7\" class=\"data row3 col7\" >-0.307109</td> \n",
       "        <td id=\"T_5da2e488_d07b_11e9_81e5_7440bb9efc3erow3_col8\" class=\"data row3 col8\" >-0.0512134</td> \n",
       "        <td id=\"T_5da2e488_d07b_11e9_81e5_7440bb9efc3erow3_col9\" class=\"data row3 col9\" >-0.105916</td> \n",
       "        <td id=\"T_5da2e488_d07b_11e9_81e5_7440bb9efc3erow3_col10\" class=\"data row3 col10\" >0.132354</td> \n",
       "    </tr>    <tr> \n",
       "        <th id=\"T_5da2e488_d07b_11e9_81e5_7440bb9efc3elevel0_row4\" class=\"row_heading level0 row4\" >curb-weight</th> \n",
       "        <td id=\"T_5da2e488_d07b_11e9_81e5_7440bb9efc3erow4_col0\" class=\"data row4 col0\" >0.781483</td> \n",
       "        <td id=\"T_5da2e488_d07b_11e9_81e5_7440bb9efc3erow4_col1\" class=\"data row4 col1\" >0.881076</td> \n",
       "        <td id=\"T_5da2e488_d07b_11e9_81e5_7440bb9efc3erow4_col2\" class=\"data row4 col2\" >0.865911</td> \n",
       "        <td id=\"T_5da2e488_d07b_11e9_81e5_7440bb9efc3erow4_col3\" class=\"data row4 col3\" >0.304661</td> \n",
       "        <td id=\"T_5da2e488_d07b_11e9_81e5_7440bb9efc3erow4_col4\" class=\"data row4 col4\" >1</td> \n",
       "        <td id=\"T_5da2e488_d07b_11e9_81e5_7440bb9efc3erow4_col5\" class=\"data row4 col5\" >0.848699</td> \n",
       "        <td id=\"T_5da2e488_d07b_11e9_81e5_7440bb9efc3erow4_col6\" class=\"data row4 col6\" >0.758787</td> \n",
       "        <td id=\"T_5da2e488_d07b_11e9_81e5_7440bb9efc3erow4_col7\" class=\"data row4 col7\" >-0.277392</td> \n",
       "        <td id=\"T_5da2e488_d07b_11e9_81e5_7440bb9efc3erow4_col8\" class=\"data row4 col8\" >-0.751195</td> \n",
       "        <td id=\"T_5da2e488_d07b_11e9_81e5_7440bb9efc3erow4_col9\" class=\"data row4 col9\" >-0.796261</td> \n",
       "        <td id=\"T_5da2e488_d07b_11e9_81e5_7440bb9efc3erow4_col10\" class=\"data row4 col10\" >0.834101</td> \n",
       "    </tr>    <tr> \n",
       "        <th id=\"T_5da2e488_d07b_11e9_81e5_7440bb9efc3elevel0_row5\" class=\"row_heading level0 row5\" >engine-size</th> \n",
       "        <td id=\"T_5da2e488_d07b_11e9_81e5_7440bb9efc3erow5_col0\" class=\"data row5 col0\" >0.570798</td> \n",
       "        <td id=\"T_5da2e488_d07b_11e9_81e5_7440bb9efc3erow5_col1\" class=\"data row5 col1\" >0.684304</td> \n",
       "        <td id=\"T_5da2e488_d07b_11e9_81e5_7440bb9efc3erow5_col2\" class=\"data row5 col2\" >0.728658</td> \n",
       "        <td id=\"T_5da2e488_d07b_11e9_81e5_7440bb9efc3erow5_col3\" class=\"data row5 col3\" >0.0705587</td> \n",
       "        <td id=\"T_5da2e488_d07b_11e9_81e5_7440bb9efc3erow5_col4\" class=\"data row5 col4\" >0.848699</td> \n",
       "        <td id=\"T_5da2e488_d07b_11e9_81e5_7440bb9efc3erow5_col5\" class=\"data row5 col5\" >1</td> \n",
       "        <td id=\"T_5da2e488_d07b_11e9_81e5_7440bb9efc3erow5_col6\" class=\"data row5 col6\" >0.823046</td> \n",
       "        <td id=\"T_5da2e488_d07b_11e9_81e5_7440bb9efc3erow5_col7\" class=\"data row5 col7\" >-0.254432</td> \n",
       "        <td id=\"T_5da2e488_d07b_11e9_81e5_7440bb9efc3erow5_col8\" class=\"data row5 col8\" >-0.652034</td> \n",
       "        <td id=\"T_5da2e488_d07b_11e9_81e5_7440bb9efc3erow5_col9\" class=\"data row5 col9\" >-0.680767</td> \n",
       "        <td id=\"T_5da2e488_d07b_11e9_81e5_7440bb9efc3erow5_col10\" class=\"data row5 col10\" >0.8721</td> \n",
       "    </tr>    <tr> \n",
       "        <th id=\"T_5da2e488_d07b_11e9_81e5_7440bb9efc3elevel0_row6\" class=\"row_heading level0 row6\" >horsepower</th> \n",
       "        <td id=\"T_5da2e488_d07b_11e9_81e5_7440bb9efc3erow6_col0\" class=\"data row6 col0\" >0.37267</td> \n",
       "        <td id=\"T_5da2e488_d07b_11e9_81e5_7440bb9efc3erow6_col1\" class=\"data row6 col1\" >0.581197</td> \n",
       "        <td id=\"T_5da2e488_d07b_11e9_81e5_7440bb9efc3erow6_col2\" class=\"data row6 col2\" >0.615502</td> \n",
       "        <td id=\"T_5da2e488_d07b_11e9_81e5_7440bb9efc3erow6_col3\" class=\"data row6 col3\" >-0.0866715</td> \n",
       "        <td id=\"T_5da2e488_d07b_11e9_81e5_7440bb9efc3erow6_col4\" class=\"data row6 col4\" >0.758787</td> \n",
       "        <td id=\"T_5da2e488_d07b_11e9_81e5_7440bb9efc3erow6_col5\" class=\"data row6 col5\" >0.823046</td> \n",
       "        <td id=\"T_5da2e488_d07b_11e9_81e5_7440bb9efc3erow6_col6\" class=\"data row6 col6\" >1</td> \n",
       "        <td id=\"T_5da2e488_d07b_11e9_81e5_7440bb9efc3erow6_col7\" class=\"data row6 col7\" >0.107769</td> \n",
       "        <td id=\"T_5da2e488_d07b_11e9_81e5_7440bb9efc3erow6_col8\" class=\"data row6 col8\" >-0.821275</td> \n",
       "        <td id=\"T_5da2e488_d07b_11e9_81e5_7440bb9efc3erow6_col9\" class=\"data row6 col9\" >-0.804531</td> \n",
       "        <td id=\"T_5da2e488_d07b_11e9_81e5_7440bb9efc3erow6_col10\" class=\"data row6 col10\" >0.811097</td> \n",
       "    </tr>    <tr> \n",
       "        <th id=\"T_5da2e488_d07b_11e9_81e5_7440bb9efc3elevel0_row7\" class=\"row_heading level0 row7\" >peak-rpm</th> \n",
       "        <td id=\"T_5da2e488_d07b_11e9_81e5_7440bb9efc3erow7_col0\" class=\"data row7 col0\" >-0.358787</td> \n",
       "        <td id=\"T_5da2e488_d07b_11e9_81e5_7440bb9efc3erow7_col1\" class=\"data row7 col1\" >-0.281584</td> \n",
       "        <td id=\"T_5da2e488_d07b_11e9_81e5_7440bb9efc3erow7_col2\" class=\"data row7 col2\" >-0.242276</td> \n",
       "        <td id=\"T_5da2e488_d07b_11e9_81e5_7440bb9efc3erow7_col3\" class=\"data row7 col3\" >-0.307109</td> \n",
       "        <td id=\"T_5da2e488_d07b_11e9_81e5_7440bb9efc3erow7_col4\" class=\"data row7 col4\" >-0.277392</td> \n",
       "        <td id=\"T_5da2e488_d07b_11e9_81e5_7440bb9efc3erow7_col5\" class=\"data row7 col5\" >-0.254432</td> \n",
       "        <td id=\"T_5da2e488_d07b_11e9_81e5_7440bb9efc3erow7_col6\" class=\"data row7 col6\" >0.107769</td> \n",
       "        <td id=\"T_5da2e488_d07b_11e9_81e5_7440bb9efc3erow7_col7\" class=\"data row7 col7\" >1</td> \n",
       "        <td id=\"T_5da2e488_d07b_11e9_81e5_7440bb9efc3erow7_col8\" class=\"data row7 col8\" >-0.115384</td> \n",
       "        <td id=\"T_5da2e488_d07b_11e9_81e5_7440bb9efc3erow7_col9\" class=\"data row7 col9\" >-0.058208</td> \n",
       "        <td id=\"T_5da2e488_d07b_11e9_81e5_7440bb9efc3erow7_col10\" class=\"data row7 col10\" >-0.100211</td> \n",
       "    </tr>    <tr> \n",
       "        <th id=\"T_5da2e488_d07b_11e9_81e5_7440bb9efc3elevel0_row8\" class=\"row_heading level0 row8\" >city-mpg</th> \n",
       "        <td id=\"T_5da2e488_d07b_11e9_81e5_7440bb9efc3erow8_col0\" class=\"data row8 col0\" >-0.47226</td> \n",
       "        <td id=\"T_5da2e488_d07b_11e9_81e5_7440bb9efc3erow8_col1\" class=\"data row8 col1\" >-0.669687</td> \n",
       "        <td id=\"T_5da2e488_d07b_11e9_81e5_7440bb9efc3erow8_col2\" class=\"data row8 col2\" >-0.636083</td> \n",
       "        <td id=\"T_5da2e488_d07b_11e9_81e5_7440bb9efc3erow8_col3\" class=\"data row8 col3\" >-0.0512134</td> \n",
       "        <td id=\"T_5da2e488_d07b_11e9_81e5_7440bb9efc3erow8_col4\" class=\"data row8 col4\" >-0.751195</td> \n",
       "        <td id=\"T_5da2e488_d07b_11e9_81e5_7440bb9efc3erow8_col5\" class=\"data row8 col5\" >-0.652034</td> \n",
       "        <td id=\"T_5da2e488_d07b_11e9_81e5_7440bb9efc3erow8_col6\" class=\"data row8 col6\" >-0.821275</td> \n",
       "        <td id=\"T_5da2e488_d07b_11e9_81e5_7440bb9efc3erow8_col7\" class=\"data row8 col7\" >-0.115384</td> \n",
       "        <td id=\"T_5da2e488_d07b_11e9_81e5_7440bb9efc3erow8_col8\" class=\"data row8 col8\" >1</td> \n",
       "        <td id=\"T_5da2e488_d07b_11e9_81e5_7440bb9efc3erow8_col9\" class=\"data row8 col9\" >0.972058</td> \n",
       "        <td id=\"T_5da2e488_d07b_11e9_81e5_7440bb9efc3erow8_col10\" class=\"data row8 col10\" >-0.68776</td> \n",
       "    </tr>    <tr> \n",
       "        <th id=\"T_5da2e488_d07b_11e9_81e5_7440bb9efc3elevel0_row9\" class=\"row_heading level0 row9\" >highway-mpg</th> \n",
       "        <td id=\"T_5da2e488_d07b_11e9_81e5_7440bb9efc3erow9_col0\" class=\"data row9 col0\" >-0.544711</td> \n",
       "        <td id=\"T_5da2e488_d07b_11e9_81e5_7440bb9efc3erow9_col1\" class=\"data row9 col1\" >-0.702181</td> \n",
       "        <td id=\"T_5da2e488_d07b_11e9_81e5_7440bb9efc3erow9_col2\" class=\"data row9 col2\" >-0.682853</td> \n",
       "        <td id=\"T_5da2e488_d07b_11e9_81e5_7440bb9efc3erow9_col3\" class=\"data row9 col3\" >-0.105916</td> \n",
       "        <td id=\"T_5da2e488_d07b_11e9_81e5_7440bb9efc3erow9_col4\" class=\"data row9 col4\" >-0.796261</td> \n",
       "        <td id=\"T_5da2e488_d07b_11e9_81e5_7440bb9efc3erow9_col5\" class=\"data row9 col5\" >-0.680767</td> \n",
       "        <td id=\"T_5da2e488_d07b_11e9_81e5_7440bb9efc3erow9_col6\" class=\"data row9 col6\" >-0.804531</td> \n",
       "        <td id=\"T_5da2e488_d07b_11e9_81e5_7440bb9efc3erow9_col7\" class=\"data row9 col7\" >-0.058208</td> \n",
       "        <td id=\"T_5da2e488_d07b_11e9_81e5_7440bb9efc3erow9_col8\" class=\"data row9 col8\" >0.972058</td> \n",
       "        <td id=\"T_5da2e488_d07b_11e9_81e5_7440bb9efc3erow9_col9\" class=\"data row9 col9\" >1</td> \n",
       "        <td id=\"T_5da2e488_d07b_11e9_81e5_7440bb9efc3erow9_col10\" class=\"data row9 col10\" >-0.705613</td> \n",
       "    </tr>    <tr> \n",
       "        <th id=\"T_5da2e488_d07b_11e9_81e5_7440bb9efc3elevel0_row10\" class=\"row_heading level0 row10\" >price</th> \n",
       "        <td id=\"T_5da2e488_d07b_11e9_81e5_7440bb9efc3erow10_col0\" class=\"data row10 col0\" >0.583709</td> \n",
       "        <td id=\"T_5da2e488_d07b_11e9_81e5_7440bb9efc3erow10_col1\" class=\"data row10 col1\" >0.690459</td> \n",
       "        <td id=\"T_5da2e488_d07b_11e9_81e5_7440bb9efc3erow10_col2\" class=\"data row10 col2\" >0.750854</td> \n",
       "        <td id=\"T_5da2e488_d07b_11e9_81e5_7440bb9efc3erow10_col3\" class=\"data row10 col3\" >0.132354</td> \n",
       "        <td id=\"T_5da2e488_d07b_11e9_81e5_7440bb9efc3erow10_col4\" class=\"data row10 col4\" >0.834101</td> \n",
       "        <td id=\"T_5da2e488_d07b_11e9_81e5_7440bb9efc3erow10_col5\" class=\"data row10 col5\" >0.8721</td> \n",
       "        <td id=\"T_5da2e488_d07b_11e9_81e5_7440bb9efc3erow10_col6\" class=\"data row10 col6\" >0.811097</td> \n",
       "        <td id=\"T_5da2e488_d07b_11e9_81e5_7440bb9efc3erow10_col7\" class=\"data row10 col7\" >-0.100211</td> \n",
       "        <td id=\"T_5da2e488_d07b_11e9_81e5_7440bb9efc3erow10_col8\" class=\"data row10 col8\" >-0.68776</td> \n",
       "        <td id=\"T_5da2e488_d07b_11e9_81e5_7440bb9efc3erow10_col9\" class=\"data row10 col9\" >-0.705613</td> \n",
       "        <td id=\"T_5da2e488_d07b_11e9_81e5_7440bb9efc3erow10_col10\" class=\"data row10 col10\" >1</td> \n",
       "    </tr></tbody> \n",
       "</table> "
      ],
      "text/plain": [
       "<pandas.io.formats.style.Styler at 0x1eb5e9989e8>"
      ]
     },
     "execution_count": 47,
     "metadata": {},
     "output_type": "execute_result"
    }
   ],
   "source": [
    "data.corr().style.background_gradient()"
   ]
  },
  {
   "cell_type": "markdown",
   "metadata": {},
   "source": [
    "Berdasarkan data korelasi diatas, saya memutuskan untuk mengambil 2 features untuk saya clustering karena 2 features ini memiliki korelasi positif yang cukup kuat yaitu:\n",
    "1. price\n",
    "2. horsepower"
   ]
  },
  {
   "cell_type": "code",
   "execution_count": 52,
   "metadata": {},
   "outputs": [
    {
     "data": {
      "text/html": [
       "<div>\n",
       "<style scoped>\n",
       "    .dataframe tbody tr th:only-of-type {\n",
       "        vertical-align: middle;\n",
       "    }\n",
       "\n",
       "    .dataframe tbody tr th {\n",
       "        vertical-align: top;\n",
       "    }\n",
       "\n",
       "    .dataframe thead th {\n",
       "        text-align: right;\n",
       "    }\n",
       "</style>\n",
       "<table border=\"1\" class=\"dataframe\">\n",
       "  <thead>\n",
       "    <tr style=\"text-align: right;\">\n",
       "      <th></th>\n",
       "      <th>price</th>\n",
       "      <th>horsepower</th>\n",
       "    </tr>\n",
       "  </thead>\n",
       "  <tbody>\n",
       "    <tr>\n",
       "      <th>0</th>\n",
       "      <td>13495.0</td>\n",
       "      <td>111.0</td>\n",
       "    </tr>\n",
       "    <tr>\n",
       "      <th>1</th>\n",
       "      <td>16500.0</td>\n",
       "      <td>111.0</td>\n",
       "    </tr>\n",
       "    <tr>\n",
       "      <th>2</th>\n",
       "      <td>16500.0</td>\n",
       "      <td>154.0</td>\n",
       "    </tr>\n",
       "    <tr>\n",
       "      <th>3</th>\n",
       "      <td>13950.0</td>\n",
       "      <td>102.0</td>\n",
       "    </tr>\n",
       "    <tr>\n",
       "      <th>4</th>\n",
       "      <td>17450.0</td>\n",
       "      <td>115.0</td>\n",
       "    </tr>\n",
       "  </tbody>\n",
       "</table>\n",
       "</div>"
      ],
      "text/plain": [
       "     price  horsepower\n",
       "0  13495.0       111.0\n",
       "1  16500.0       111.0\n",
       "2  16500.0       154.0\n",
       "3  13950.0       102.0\n",
       "4  17450.0       115.0"
      ]
     },
     "execution_count": 52,
     "metadata": {},
     "output_type": "execute_result"
    }
   ],
   "source": [
    "data_kluster = data[['price', 'horsepower']]\n",
    "data_kluster.head()"
   ]
  },
  {
   "cell_type": "markdown",
   "metadata": {},
   "source": [
    "## Melihat korelasi 2 features"
   ]
  },
  {
   "cell_type": "code",
   "execution_count": 53,
   "metadata": {},
   "outputs": [],
   "source": [
    "#Mengubah data menjadi array\n",
    "X = np.asarray(data_kluster)"
   ]
  },
  {
   "cell_type": "code",
   "execution_count": 184,
   "metadata": {},
   "outputs": [
    {
     "data": {
      "text/plain": [
       "Text(0.5,1,'Regression Line')"
      ]
     },
     "execution_count": 184,
     "metadata": {},
     "output_type": "execute_result"
    },
    {
     "data": {
      "image/png": "[encoded data removed]",
      "text/plain": [
       "<matplotlib.figure.Figure at 0x1eb5db51eb8>"
      ]
     },
     "metadata": {},
     "output_type": "display_data"
    }
   ],
   "source": [
    "#Plotting data di scatter plot\n",
    "f = plt.figure(figsize=(15,6))\n",
    "\n",
    "f.add_subplot(1,2,1)\n",
    "plt.scatter(X[:,0], X[:,1], c='b')\n",
    "plt.xlabel('Price')\n",
    "plt.ylabel('Horsepower')\n",
    "plt.title('Hubungan antara price dengan horsepower')\n",
    "\n",
    "f.add_subplot(1,2,2)\n",
    "sns.regplot(x=X[:,0], y=X[:,1])\n",
    "plt.xlabel('Price')\n",
    "plt.ylabel('Horsepower')\n",
    "plt.title('Regression Line')"
   ]
  },
  {
   "cell_type": "markdown",
   "metadata": {},
   "source": [
    "## Algoritma Pertama Menggunakan K-Means"
   ]
  },
  {
   "cell_type": "code",
   "execution_count": 62,
   "metadata": {},
   "outputs": [],
   "source": [
    "#Mencari nilai K yang optimal\n",
    "inertia = []\n",
    "sil = []\n",
    "K = range(2,15)\n",
    "for k in K:\n",
    "    km = KMeans(n_clusters=k)\n",
    "    km = km.fit(X)\n",
    "    km.labels_\n",
    "    \n",
    "    inertia.append(km.inertia_)\n",
    "    sil.append(silhouette_score(X, km.labels_))"
   ]
  },
  {
   "cell_type": "code",
   "execution_count": 64,
   "metadata": {},
   "outputs": [
    {
     "data": {
      "text/plain": [
       "Text(0,0.5,'Silhoutte Score')"
      ]
     },
     "execution_count": 64,
     "metadata": {},
     "output_type": "execute_result"
    },
    {
     "data": {
      "image/png": "[encoded data removed]",
      "text/plain": [
       "<matplotlib.figure.Figure at 0x1eb62362e80>"
      ]
     },
     "metadata": {},
     "output_type": "display_data"
    }
   ],
   "source": [
    "#Plotting dengan menggunakan inertia dan silhoute score\n",
    "\n",
    "f = plt.figure(figsize=(15,7))\n",
    "\n",
    "f.add_subplot(1,2,1)\n",
    "plt.plot(K, inertia)\n",
    "plt.xlabel('k')\n",
    "plt.ylabel('Inertia')\n",
    "\n",
    "f.add_subplot(1,2,2)           \n",
    "plt.plot(K, sil)\n",
    "plt.xlabel('k')\n",
    "plt.ylabel('Silhoutte Score')"
   ]
  },
  {
   "cell_type": "markdown",
   "metadata": {},
   "source": [
    "### Dari kedua score diatas, saya memutuskan untuk menggunakan K=2"
   ]
  },
  {
   "cell_type": "code",
   "execution_count": 65,
   "metadata": {},
   "outputs": [],
   "source": [
    "km = KMeans(n_clusters=2)\n",
    "km = km.fit(X)"
   ]
  },
  {
   "cell_type": "code",
   "execution_count": 66,
   "metadata": {},
   "outputs": [
    {
     "data": {
      "text/plain": [
       "array([[10751.12571429,    95.50285714],\n",
       "       [30585.12      ,   158.04      ]])"
      ]
     },
     "execution_count": 66,
     "metadata": {},
     "output_type": "execute_result"
    }
   ],
   "source": [
    "km.cluster_centers_"
   ]
  },
  {
   "cell_type": "code",
   "execution_count": 185,
   "metadata": {},
   "outputs": [
    {
     "data": {
      "text/plain": [
       "Text(0.5,1,'Letak Centroid')"
      ]
     },
     "execution_count": 185,
     "metadata": {},
     "output_type": "execute_result"
    },
    {
     "data": {
      "image/png": "[encoded data removed]",
      "text/plain": [
       "<matplotlib.figure.Figure at 0x1eb5d23b198>"
      ]
     },
     "metadata": {},
     "output_type": "display_data"
    }
   ],
   "source": [
    "#Plotting centroid\n",
    "plt.scatter(X[:,0], X[:,1], c=km.labels_)\n",
    "plt.scatter(10751.12571429, 95.50285714, c='r')\n",
    "plt.scatter(30585.12, 158.04, c='g')\n",
    "plt.xlabel('Price')\n",
    "plt.ylabel('Horsepower')\n",
    "plt.title('Letak Centroid')"
   ]
  },
  {
   "cell_type": "code",
   "execution_count": 68,
   "metadata": {},
   "outputs": [
    {
     "data": {
      "text/plain": [
       "array([0, 0, 0, 0, 0, 0, 0, 0, 1, 0, 0, 1, 1, 1, 1, 1, 1, 0, 0, 0, 0, 0,\n",
       "       0, 0, 0, 0, 0, 0, 0, 0, 0, 0, 0, 0, 0, 0, 0, 0, 0, 0, 0, 0, 0, 1,\n",
       "       1, 1, 0, 0, 0, 0, 0, 0, 0, 0, 0, 0, 0, 0, 0, 0, 0, 0, 0, 1, 1, 1,\n",
       "       1, 1, 1, 1, 1, 0, 0, 0, 0, 0, 0, 0, 0, 0, 0, 0, 0, 0, 0, 0, 0, 0,\n",
       "       0, 0, 0, 0, 0, 0, 0, 0, 0, 0, 0, 0, 0, 0, 0, 0, 0, 0, 0, 0, 0, 0,\n",
       "       0, 0, 0, 0, 0, 0, 0, 0, 0, 0, 0, 1, 1, 1, 1, 0, 0, 0, 0, 0, 0, 0,\n",
       "       0, 0, 0, 0, 0, 0, 0, 0, 0, 0, 0, 0, 0, 0, 0, 0, 0, 0, 0, 0, 0, 0,\n",
       "       0, 0, 0, 0, 0, 0, 0, 0, 0, 0, 0, 0, 0, 0, 0, 0, 0, 0, 0, 0, 0, 0,\n",
       "       0, 0, 0, 0, 0, 0, 0, 0, 0, 0, 0, 0, 0, 0, 0, 0, 0, 0, 0, 0, 0, 1,\n",
       "       1, 1])"
      ]
     },
     "execution_count": 68,
     "metadata": {},
     "output_type": "execute_result"
    }
   ],
   "source": [
    "km.labels_"
   ]
  },
  {
   "cell_type": "code",
   "execution_count": 186,
   "metadata": {},
   "outputs": [
    {
     "data": {
      "image/png": "[encoded data removed]",
      "text/plain": [
       "<matplotlib.figure.Figure at 0x1eb6522fa58>"
      ]
     },
     "metadata": {},
     "output_type": "display_data"
    }
   ],
   "source": [
    "#Visualisasi hasil clustering\n",
    "x = X[:,0]\n",
    "y = X[:,1]\n",
    "\n",
    "group = km.labels_\n",
    "\n",
    "colors = ['red', 'green']\n",
    "fig, ax = plt.subplots()\n",
    "\n",
    "for g in set(km.labels_):\n",
    "    xi = [x[j] for j in range(len(x)) if group[j]==g]\n",
    "    yi = [y[j] for j in range(len(y)) if group[j]==g]\n",
    "    ax.scatter(xi, yi, c=colors[g], label=g)\n",
    "    plt.xlabel('Price')\n",
    "    plt.ylabel('Horsepower')\n",
    "    plt.title('Price vs Horsepower')\n",
    "\n",
    "ax.legend()\n",
    "plt.show()"
   ]
  },
  {
   "cell_type": "markdown",
   "metadata": {},
   "source": [
    "- Dari metode K-Means didapatkan bahwa terdapat 2 kluster yang berwarna merah dan hijau"
   ]
  },
  {
   "cell_type": "markdown",
   "metadata": {},
   "source": [
    "## Algoritma kedua menggunakan Hierarchical Clustering"
   ]
  },
  {
   "cell_type": "code",
   "execution_count": 83,
   "metadata": {},
   "outputs": [
    {
     "data": {
      "image/png": "[encoded data removed]",
      "text/plain": [
       "<matplotlib.figure.Figure at 0x1eb5db77518>"
      ]
     },
     "metadata": {},
     "output_type": "display_data"
    }
   ],
   "source": [
    "plt.figure(figsize=(16,24))\n",
    "dendogram = sch.dendrogram(sch.linkage(X, method='average'), orientation='right')"
   ]
  },
  {
   "cell_type": "markdown",
   "metadata": {},
   "source": [
    "- Dari dendogram, dapat diambil kesimpulan bahwa terdapat 2 kluster"
   ]
  },
  {
   "cell_type": "markdown",
   "metadata": {},
   "source": [
    "### Mencari Metode Linkage yang paling optimal"
   ]
  },
  {
   "cell_type": "code",
   "execution_count": 82,
   "metadata": {},
   "outputs": [
    {
     "name": "stdout",
     "output_type": "stream",
     "text": [
      "Linkage complete mempunyai score 0.7517018318823813\n",
      "Linkage ward mempunyai score 0.7478967404471697\n",
      "Linkage average mempunyai score 0.7517018318823813\n"
     ]
    }
   ],
   "source": [
    "features = ['complete', 'ward', 'average']\n",
    "for feature in features:\n",
    "    hc = AgglomerativeClustering(n_clusters=2, affinity='euclidean', linkage=feature)\n",
    "    hc.fit(X)\n",
    "    labels = hc.labels_\n",
    "    print(f'Linkage {feature} mempunyai score {silhouette_score(X, labels)}')"
   ]
  },
  {
   "cell_type": "markdown",
   "metadata": {},
   "source": [
    "- Karena nilai linkage complete dan average sama, saya memutuskan untuk menggunakan linkage yang Average"
   ]
  },
  {
   "cell_type": "code",
   "execution_count": 85,
   "metadata": {},
   "outputs": [
    {
     "data": {
      "text/plain": [
       "array([1, 1, 1, 1, 1, 1, 1, 1, 1, 1, 1, 1, 1, 1, 0, 0, 0, 1, 1, 1, 1, 1,\n",
       "       1, 1, 1, 1, 1, 1, 1, 1, 1, 1, 1, 1, 1, 1, 1, 1, 1, 1, 1, 1, 1, 0,\n",
       "       0, 0, 1, 1, 1, 1, 1, 1, 1, 1, 1, 1, 1, 1, 1, 1, 1, 1, 1, 1, 0, 0,\n",
       "       0, 0, 0, 0, 0, 1, 1, 1, 1, 1, 1, 1, 1, 1, 1, 1, 1, 1, 1, 1, 1, 1,\n",
       "       1, 1, 1, 1, 1, 1, 1, 1, 1, 1, 1, 1, 1, 1, 1, 1, 1, 1, 1, 1, 1, 1,\n",
       "       1, 1, 1, 1, 1, 1, 1, 1, 1, 1, 1, 1, 0, 0, 0, 1, 1, 1, 1, 1, 1, 1,\n",
       "       1, 1, 1, 1, 1, 1, 1, 1, 1, 1, 1, 1, 1, 1, 1, 1, 1, 1, 1, 1, 1, 1,\n",
       "       1, 1, 1, 1, 1, 1, 1, 1, 1, 1, 1, 1, 1, 1, 1, 1, 1, 1, 1, 1, 1, 1,\n",
       "       1, 1, 1, 1, 1, 1, 1, 1, 1, 1, 1, 1, 1, 1, 1, 1, 1, 1, 1, 1, 1, 1,\n",
       "       1, 1], dtype=int64)"
      ]
     },
     "execution_count": 85,
     "metadata": {},
     "output_type": "execute_result"
    }
   ],
   "source": [
    "hc = AgglomerativeClustering(n_clusters=2, affinity='euclidean', linkage='average')\n",
    "hc.fit(X)\n",
    "labels = hc.labels_\n",
    "labels"
   ]
  },
  {
   "cell_type": "code",
   "execution_count": 187,
   "metadata": {},
   "outputs": [
    {
     "data": {
      "image/png": "[encoded data removed]",
      "text/plain": [
       "<matplotlib.figure.Figure at 0x1eb647e1128>"
      ]
     },
     "metadata": {},
     "output_type": "display_data"
    }
   ],
   "source": [
    "#Vosualisasi untuk clustering\n",
    "x = X[:,0]\n",
    "y = X[:,1]\n",
    "\n",
    "group = hc.labels_\n",
    "\n",
    "colors = ['red', 'green']\n",
    "fig, ax = plt.subplots()\n",
    "\n",
    "for g in set(hc.labels_):\n",
    "    xi = [x[j] for j in range(len(x)) if group[j]==g]\n",
    "    yi = [y[j] for j in range(len(y)) if group[j]==g]\n",
    "    ax.scatter(xi, yi, c=colors[g], label=g)\n",
    "    plt.xlabel('Price')\n",
    "    plt.ylabel('Horsepower')\n",
    "    plt.title('Price vs Horsepower')\n",
    "ax.legend()\n",
    "plt.show()"
   ]
  },
  {
   "cell_type": "markdown",
   "metadata": {},
   "source": [
    "- Dari metode Hierarchical Clustering didapatkan bahwa terdapat 2 kluster yang berwarna merah dan hijau"
   ]
  },
  {
   "cell_type": "markdown",
   "metadata": {},
   "source": [
    "## Algoritma 3 Menggunakan DBSCAN"
   ]
  },
  {
   "cell_type": "code",
   "execution_count": 188,
   "metadata": {},
   "outputs": [
    {
     "name": "stdout",
     "output_type": "stream",
     "text": [
      "eps paling max adalah 2800, dengan jumlah sample 5. Nilai silhoutte nya 0.7020044340321815\n"
     ]
    }
   ],
   "source": [
    "#Mencari nilai yan optimal untuk eps dan min_samples\n",
    "eps_values = range(2000,3000,200)\n",
    "min_samples = (5,100,5)\n",
    "sc = 999999\n",
    "\n",
    "for eps in eps_values:\n",
    "    for samples in min_samples:\n",
    "        dbscan = DBSCAN(eps=eps, min_samples=samples)\n",
    "        dbscan.fit(X)\n",
    "        label = dbscan.labels_\n",
    "        if sc > err:\n",
    "            sc = err\n",
    "print(f'eps paling max adalah {eps}, dengan jumlah sample {samples}. Nilai silhoutte nya {sc}')"
   ]
  },
  {
   "cell_type": "code",
   "execution_count": 160,
   "metadata": {},
   "outputs": [
    {
     "data": {
      "text/plain": [
       "DBSCAN(algorithm='auto', eps=2800, leaf_size=30, metric='euclidean',\n",
       "    metric_params=None, min_samples=5, n_jobs=1, p=None)"
      ]
     },
     "execution_count": 160,
     "metadata": {},
     "output_type": "execute_result"
    }
   ],
   "source": [
    "dbscan = DBSCAN(eps=2800, min_samples=5)\n",
    "dbscan.fit(X)"
   ]
  },
  {
   "cell_type": "code",
   "execution_count": 161,
   "metadata": {},
   "outputs": [
    {
     "data": {
      "text/plain": [
       "array([ 0,  0,  0,  0,  0,  0,  0,  0,  0,  0,  0,  0,  0,  0,  1, -1,  1,\n",
       "        0,  0,  0,  0,  0,  0,  0,  0,  0,  0,  0,  0,  0,  0,  0,  0,  0,\n",
       "        0,  0,  0,  0,  0,  0,  0,  0,  0,  1,  1,  1,  0,  0,  0,  0,  0,\n",
       "        0,  0,  0,  0,  0,  0,  0,  0,  0,  0,  0,  0,  0,  0,  0,  1,  1,\n",
       "        1, -1, -1,  0,  0,  0,  0,  0,  0,  0,  0,  0,  0,  0,  0,  0,  0,\n",
       "        0,  0,  0,  0,  0,  0,  0,  0,  0,  0,  0,  0,  0,  0,  0,  0,  0,\n",
       "        0,  0,  0,  0,  0,  0,  0,  0,  0,  0,  0,  0,  0,  0,  0,  0,  0,\n",
       "        0,  0,  0,  1,  1,  1,  0,  0,  0,  0,  0,  0,  0,  0,  0,  0,  0,\n",
       "        0,  0,  0,  0,  0,  0,  0,  0,  0,  0,  0,  0,  0,  0,  0,  0,  0,\n",
       "        0,  0,  0,  0,  0,  0,  0,  0,  0,  0,  0,  0,  0,  0,  0,  0,  0,\n",
       "        0,  0,  0,  0,  0,  0,  0,  0,  0,  0,  0,  0,  0,  0,  0,  0,  0,\n",
       "        0,  0,  0,  0,  0,  0,  0,  0,  0,  0,  0,  0,  0], dtype=int64)"
      ]
     },
     "execution_count": 161,
     "metadata": {},
     "output_type": "execute_result"
    }
   ],
   "source": [
    "dbscan.labels_"
   ]
  },
  {
   "cell_type": "code",
   "execution_count": 189,
   "metadata": {},
   "outputs": [
    {
     "data": {
      "image/png": "[encoded data removed]",
      "text/plain": [
       "<matplotlib.figure.Figure at 0x1eb66f76128>"
      ]
     },
     "metadata": {},
     "output_type": "display_data"
    }
   ],
   "source": [
    "#Vosualisasi untuk clustering\n",
    "x = X[:,0]\n",
    "y = X[:,1]\n",
    "\n",
    "group = dbscan.labels_\n",
    "\n",
    "colors = ['red', 'green', 'blue']\n",
    "fig, ax = plt.subplots()\n",
    "\n",
    "for g in set(dbscan.labels_):\n",
    "    xi = [x[j] for j in range(len(x)) if group[j]==g]\n",
    "    yi = [y[j] for j in range(len(y)) if group[j]==g]\n",
    "    ax.scatter(xi, yi, c=colors[g], label=g)\n",
    "    plt.xlabel('Price')\n",
    "    plt.ylabel('Horsepower')\n",
    "    plt.title('Price vs Horsepower')\n",
    "ax.legend()\n",
    "plt.show()"
   ]
  },
  {
   "cell_type": "markdown",
   "metadata": {},
   "source": [
    "- Berdasarkan DBSCAN Clistering didapatkan 3 cluster dengan satu cluster berupa noise"
   ]
  },
  {
   "cell_type": "markdown",
   "metadata": {},
   "source": [
    "# Kesimpulan"
   ]
  },
  {
   "cell_type": "code",
   "execution_count": 178,
   "metadata": {
    "scrolled": true
   },
   "outputs": [
    {
     "data": {
      "text/plain": [
       "Text(0.5,1,'DBSCAN Cluster')"
      ]
     },
     "execution_count": 178,
     "metadata": {},
     "output_type": "execute_result"
    },
    {
     "data": {
      "image/png": "[encoded data removed]",
      "text/plain": [
       "<matplotlib.figure.Figure at 0x1eb5cfaf5c0>"
      ]
     },
     "metadata": {},
     "output_type": "display_data"
    }
   ],
   "source": [
    "#Visualisasi 3 Metode\n",
    "f = plt.figure(figsize=(20,5))\n",
    "\n",
    "f.add_subplot(1,3,1)\n",
    "x = X[:,0]\n",
    "y = X[:,1]\n",
    "plt.scatter(x, y, c=km.labels_)\n",
    "plt.xlabel('Price')\n",
    "plt.ylabel('Horsepower')\n",
    "plt.title('K-Means Cluster')\n",
    "\n",
    "f.add_subplot(1,3,2)\n",
    "x = X[:,0]\n",
    "y = X[:,1]\n",
    "plt.scatter(x, y, c=hc.labels_)\n",
    "plt.xlabel('Price')\n",
    "plt.ylabel('Horsepower')\n",
    "plt.title('Hierarchical Cluster')\n",
    "\n",
    "f.add_subplot(1,3,3)\n",
    "x = X[:,0]\n",
    "y = X[:,1]\n",
    "plt.scatter(x, y, c=dbscan.labels_)\n",
    "plt.xlabel('Price')\n",
    "plt.ylabel('Horsepower')\n",
    "plt.title('DBSCAN Cluster')"
   ]
  },
  {
   "cell_type": "markdown",
   "metadata": {},
   "source": [
    "## Algoritma yang dipilih : Hierarchical Clustering"
   ]
  },
  {
   "cell_type": "markdown",
   "metadata": {},
   "source": [
    "Jawaban:\n",
    "1. Cluster yang saya buat adalah <b>2</b>, dengan feature yang saya gunakan adalah <b>Horsepower</b> dan <b>Price</b>\n",
    "2. ALgoritma yang saya ambil adalah <b>Hierarchical Clustering</b> karena:\n",
    "    1. Algoritma ini memberikan nilai <b>silhoutte score</b> yang paling baik yaitu sebesar <b>0.75</b>, untuk K-Means sebesar <b>0.72</b>, dan <b>DBSCAN 0.7</b>.\n",
    "    2. Dari sisi <b>visual</b>, terlihat bahwa terdapat <b>gap</b> yang jelas antara cluster 1 dengan cluster 2\n",
    "3. Ya, setiap cluster memiliki ciri-ciri yang berbeda. Ciri-ciri masing cluster adalah:\n",
    "    1. Cluster 0 (warna merah): Memiliki ciri ciri harga mobilnya itu <b>diatas</b> sekitar 27000 dan memiliki horsepower dengan range sekitar 100-250\n",
    "    2. Cluster 1 (warna hijau): Memiliki ciri ciri harga mobilnya itu <b>dibawah</b> sekitar 27000 dan memiliki horsepower dengan range sekitar 50-200"
   ]
  }
 ],
 "metadata": {
  "kernelspec": {
   "display_name": "Python 3",
   "language": "python",
   "name": "python3"
  },
  "language_info": {
   "codemirror_mode": {
    "name": "ipython",
    "version": 3
   },
   "file_extension": ".py",
   "mimetype": "text/x-python",
   "name": "python",
   "nbconvert_exporter": "python",
   "pygments_lexer": "ipython3",
   "version": "3.6.4"
  }
 },
 "nbformat": 4,
 "nbformat_minor": 2
}
